{
  "metadata": {
    "kernelspec": {
      "name": "python",
      "display_name": "Python (Pyodide)",
      "language": "python"
    },
    "language_info": {
      "codemirror_mode": {
        "name": "python",
        "version": 3
      },
      "file_extension": ".py",
      "mimetype": "text/x-python",
      "name": "python",
      "nbconvert_exporter": "python",
      "pygments_lexer": "ipython3",
      "version": "3.8"
    }
  },
  "nbformat_minor": 5,
  "nbformat": 4,
  "cells": [
    {
      "id": "7e6280c0-9eca-4626-a8de-e29b5a6dfac8",
      "cell_type": "code",
      "source": "import cv2\nimport numpy as np\n\ndef preprocess_mri(img):\n    \"\"\"\n    3-step filter pipeline:\n    1. Anisotropic Diffusion (edge-preserving smoothing)\n    2. Non-Local Means Denoising (advanced noise removal)\n    3. CLAGC (Contrast-Limited Adaptive Gamma Correction)\n    \"\"\"\n    # Step 1: Anisotropic Diffusion\n    def anisotropic_diffusion(img, niter=10, kappa=50, gamma=0.1):\n        img = img.astype(np.float32)\n        for _ in range(niter):\n            grad_north = np.roll(img, -1, axis=0) - img\n            grad_south = np.roll(img, 1, axis=0) - img\n            grad_east = np.roll(img, -1, axis=1) - img\n            grad_west = np.roll(img, 1, axis=1) - img\n            diffusion = grad_north * np.exp(-(grad_north/kappa)**2) + \\\n                       grad_south * np.exp(-(grad_south/kappa)**2) + \\\n                       grad_east * np.exp(-(grad_east/kappa)**2) + \\\n                       grad_west * np.exp(-(grad_west/kappa)**2)\n            img += gamma * diffusion\n        return np.clip(img, 0, 255).astype(np.uint8)\n\n    # Step 2: Non-Local Means Denoising\n    denoised = cv2.fastNlMeansDenoising(img, h=10, templateWindowSize=7, searchWindowSize=21)\n\n    # Step 3: CLAGC\n    def clagc(img, clip_limit=2.0, gamma=1.5):\n        clahe = cv2.createCLAHE(clipLimit=clip_limit, tileGridSize=(8, 8))\n        clahe_img = clahe.apply(img)\n        inv_gamma = 1.0 / gamma\n        table = np.array([((i / 255.0) ** inv_gamma) * 255 for i in np.arange(0, 256)]).astype(\"uint8\")\n        return cv2.LUT(clahe_img, table)\n\n    return clagc(denoised)\n\n# Load your MRI image (replace with your file path)\nimg_path = \"/content/brain mri.jpeg\" # or .png/.dcm\nmri_img = cv2.imread(img_path, cv2.IMREAD_GRAYSCALE)  # Read as grayscale\n\n# Check if image loaded correctly\nif mri_img is None:\n    raise ValueError(\"Image not found or invalid format!\")\n\n# Apply preprocessing\nenhanced_img = preprocess_mri(mri_img)\n\n# Resize to 128x128 (optional, match Mod-R2AU-Net input)\nresized_img = cv2.resize(enhanced_img, (128, 128), interpolation=cv2.INTER_AREA)\n\n# Display results\ncv2.imshow(\"Original MRI\", mri_img)\ncv2.imshow(\"Enhanced MRI\", enhanced_img)\ncv2.imshow(\"Resized (128x128)\", resized_img)\ncv2.waitKey(0)\ncv2.destroyAllWindows()\n\n# Save the processed image\ncv2.imwrite(\"enhanced_brain_mri.jpg\", enhanced_img)",
      "metadata": {
        "trusted": true
      },
      "outputs": [
        {
          "ename": "<class 'ValueError'>",
          "evalue": "Image not found or invalid format!",
          "traceback": [
            "\u001b[0;31m---------------------------------------------------------------------------\u001b[0m",
            "\u001b[0;31mValueError\u001b[0m                                Traceback (most recent call last)",
            "Cell \u001b[0;32mIn[1], line 45\u001b[0m\n\u001b[1;32m     43\u001b[0m \u001b[38;5;66;03m# Check if image loaded correctly\u001b[39;00m\n\u001b[1;32m     44\u001b[0m \u001b[38;5;28;01mif\u001b[39;00m mri_img \u001b[38;5;129;01mis\u001b[39;00m \u001b[38;5;28;01mNone\u001b[39;00m:\n\u001b[0;32m---> 45\u001b[0m     \u001b[38;5;28;01mraise\u001b[39;00m \u001b[38;5;167;01mValueError\u001b[39;00m(\u001b[38;5;124m\"\u001b[39m\u001b[38;5;124mImage not found or invalid format!\u001b[39m\u001b[38;5;124m\"\u001b[39m)\n\u001b[1;32m     47\u001b[0m \u001b[38;5;66;03m# Apply preprocessing\u001b[39;00m\n\u001b[1;32m     48\u001b[0m enhanced_img \u001b[38;5;241m=\u001b[39m preprocess_mri(mri_img)\n",
            "\u001b[0;31mValueError\u001b[0m: Image not found or invalid format!"
          ],
          "output_type": "error"
        }
      ],
      "execution_count": 1
    },
    {
      "id": "12be361f-b95b-4aeb-a837-5db598e426c9",
      "cell_type": "code",
      "source": "",
      "metadata": {
        "trusted": true
      },
      "outputs": [],
      "execution_count": null
    },
    {
      "id": "9f444ada-4cc2-46d3-adbf-80c2ff4490be",
      "cell_type": "code",
      "source": "",
      "metadata": {
        "trusted": true
      },
      "outputs": [],
      "execution_count": null
    }
  ]
}