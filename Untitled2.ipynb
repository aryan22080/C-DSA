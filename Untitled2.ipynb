{
  "metadata": {
    "kernelspec": {
      "name": "python",
      "display_name": "Python (Pyodide)",
      "language": "python"
    },
    "language_info": {
      "codemirror_mode": {
        "name": "python",
        "version": 3
      },
      "file_extension": ".py",
      "mimetype": "text/x-python",
      "name": "python",
      "nbconvert_exporter": "python",
      "pygments_lexer": "ipython3",
      "version": "3.8"
    }
  },
  "nbformat_minor": 5,
  "nbformat": 4,
  "cells": [
    {
      "id": "80bfbfd1-5c91-4675-95ae-3e6f789b3cd0",
      "cell_type": "code",
      "source": "name, price, qty = 'Aryan',12,50,4\nprint(name,price, qty)",
      "metadata": {
        "trusted": true
      },
      "outputs": [
        {
          "ename": "<class 'ValueError'>",
          "evalue": "too many values to unpack (expected 3)",
          "traceback": [
            "\u001b[0;31m---------------------------------------------------------------------------\u001b[0m",
            "\u001b[0;31mValueError\u001b[0m                                Traceback (most recent call last)",
            "Cell \u001b[0;32mIn[1], line 1\u001b[0m\n\u001b[0;32m----> 1\u001b[0m name, price, qty \u001b[38;5;241m=\u001b[39m \u001b[38;5;124m'\u001b[39m\u001b[38;5;124mAryan\u001b[39m\u001b[38;5;124m'\u001b[39m,\u001b[38;5;241m12\u001b[39m,\u001b[38;5;241m50\u001b[39m,\u001b[38;5;241m4\u001b[39m\n\u001b[1;32m      2\u001b[0m \u001b[38;5;28mprint\u001b[39m(name,price,qty)\n",
            "\u001b[0;31mValueError\u001b[0m: too many values to unpack (expected 3)"
          ],
          "output_type": "error"
        }
      ],
      "execution_count": 1
    },
    {
      "id": "c0559827-849d-4502-9edf-dddb13eb0f93",
      "cell_type": "code",
      "source": "name = \"Aryan\"\nprint(name)",
      "metadata": {
        "trusted": true
      },
      "outputs": [
        {
          "name": "stdout",
          "output_type": "stream",
          "text": "Aryan\n"
        }
      ],
      "execution_count": 2
    },
    {
      "id": "35474cd9-955c-4484-bd76-93bb446f9482",
      "cell_type": "code",
      "source": "a,b,c = 1,3,5\nprint(a,b,c)",
      "metadata": {
        "trusted": true
      },
      "outputs": [
        {
          "name": "stdout",
          "output_type": "stream",
          "text": "1 3 5\n"
        }
      ],
      "execution_count": 3
    },
    {
      "id": "78c71e7e-85f5-4e9c-a088-ae494a0dc820",
      "cell_type": "code",
      "source": "name, price, qty = 'Aryan', 27, 5\nprint(name, price, qty)",
      "metadata": {
        "trusted": true
      },
      "outputs": [
        {
          "name": "stdout",
          "output_type": "stream",
          "text": "Aryan 27 5\n"
        }
      ],
      "execution_count": 4
    },
    {
      "id": "2d45e577-1d07-4894-940c-443a18da3528",
      "cell_type": "code",
      "source": "a,b,c = 2,2,2\nprint(id(a),id(b), id(c))",
      "metadata": {
        "trusted": true
      },
      "outputs": [
        {
          "name": "stdout",
          "output_type": "stream",
          "text": "3250084 3250084 3250084\n"
        }
      ],
      "execution_count": 5
    },
    {
      "id": "8b2ef924-9440-4da6-9601-38b0d62841a2",
      "cell_type": "code",
      "source": "a= 16\nprint(type(a))",
      "metadata": {
        "trusted": true
      },
      "outputs": [
        {
          "name": "stdout",
          "output_type": "stream",
          "text": "<class 'int'>\n"
        }
      ],
      "execution_count": 6
    },
    {
      "id": "af293f09-5442-4f33-82b4-2e066ea40ad6",
      "cell_type": "code",
      "source": "a = 'John'\nprint(type(a))",
      "metadata": {
        "trusted": true
      },
      "outputs": [
        {
          "name": "stdout",
          "output_type": "stream",
          "text": "<class 'str'>\n"
        }
      ],
      "execution_count": 7
    },
    {
      "id": "767003c8-9471-4264-b4ab-ca9511b0560f",
      "cell_type": "code",
      "source": "",
      "metadata": {
        "trusted": true
      },
      "outputs": [],
      "execution_count": null
    }
  ]
}