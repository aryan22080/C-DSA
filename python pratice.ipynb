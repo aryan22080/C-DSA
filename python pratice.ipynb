{
  "metadata": {
    "kernelspec": {
      "name": "python",
      "display_name": "Python (Pyodide)",
      "language": "python"
    },
    "language_info": {
      "codemirror_mode": {
        "name": "python",
        "version": 3
      },
      "file_extension": ".py",
      "mimetype": "text/x-python",
      "name": "python",
      "nbconvert_exporter": "python",
      "pygments_lexer": "ipython3",
      "version": "3.8"
    }
  },
  "nbformat_minor": 5,
  "nbformat": 4,
  "cells": [
    {
      "id": "00223f4f-a83d-4fe7-bbaf-ed87b89a545a",
      "cell_type": "code",
      "source": "age_person = 25\nage_person",
      "metadata": {
        "trusted": true
      },
      "outputs": [
        {
          "execution_count": 1,
          "output_type": "execute_result",
          "data": {
            "text/plain": "25"
          },
          "metadata": {}
        }
      ],
      "execution_count": 1
    },
    {
      "id": "90a34734-9503-4551-bcdd-572b00b6be1e",
      "cell_type": "code",
      "source": "1age_person = 34\nprint(1age_person)",
      "metadata": {
        "trusted": true
      },
      "outputs": [
        {
          "ename": "<class 'SyntaxError'>",
          "evalue": "invalid decimal literal (<ipython-input-2-771d0fe567ac>, line 1)",
          "traceback": [
            "\u001b[0;36m  Cell \u001b[0;32mIn[2], line 1\u001b[0;36m\u001b[0m\n\u001b[0;31m    1age_person = 34\u001b[0m\n\u001b[0m    ^\u001b[0m\n\u001b[0;31mSyntaxError\u001b[0m\u001b[0;31m:\u001b[0m invalid decimal literal\n"
          ],
          "output_type": "error"
        }
      ],
      "execution_count": 2
    },
    {
      "id": "24b370fc-7503-44ae-aff6-e178acaacbd6",
      "cell_type": "code",
      "source": "True = false\nTrue",
      "metadata": {
        "trusted": true
      },
      "outputs": [
        {
          "ename": "<class 'SyntaxError'>",
          "evalue": "cannot assign to True (<ipython-input-3-0983d344f557>, line 1)",
          "traceback": [
            "\u001b[0;36m  Cell \u001b[0;32mIn[3], line 1\u001b[0;36m\u001b[0m\n\u001b[0;31m    True = false\u001b[0m\n\u001b[0m    ^\u001b[0m\n\u001b[0;31mSyntaxError\u001b[0m\u001b[0;31m:\u001b[0m cannot assign to True\n"
          ],
          "output_type": "error"
        }
      ],
      "execution_count": 3
    },
    {
      "id": "be3be1cc-e0a7-4dbf-ad8d-8b78aa08749b",
      "cell_type": "code",
      "source": "a = 5\nprint(id(a))",
      "metadata": {
        "trusted": true
      },
      "outputs": [
        {
          "name": "stdout",
          "output_type": "stream",
          "text": "3250132\n"
        }
      ],
      "execution_count": 4
    },
    {
      "id": "ee4494a4-34a4-447d-96ec-ce310087a580",
      "cell_type": "code",
      "source": "a ,b,c= 2,2,2\nprint(id(a),id(b),id(c))\n",
      "metadata": {
        "trusted": true
      },
      "outputs": [
        {
          "name": "stdout",
          "output_type": "stream",
          "text": "3250084 3250084 3250084\n"
        }
      ],
      "execution_count": 5
    },
    {
      "id": "5100c068-b63c-4008-a1db-98903e823b4b",
      "cell_type": "code",
      "source": "true = 'false'\nprint(true)",
      "metadata": {
        "trusted": true
      },
      "outputs": [
        {
          "name": "stdout",
          "output_type": "stream",
          "text": "false\n"
        }
      ],
      "execution_count": 6
    },
    {
      "id": "ea1a288e-4119-4847-b6d9-b70eeaaed73e",
      "cell_type": "code",
      "source": "x = 101\ny = 12345678901234567\nprint(x)\nprint(y)",
      "metadata": {
        "trusted": true
      },
      "outputs": [
        {
          "name": "stdout",
          "output_type": "stream",
          "text": "101\n12345678901234567\n"
        }
      ],
      "execution_count": 7
    },
    {
      "id": "410b2fc7-c549-414a-b776-bc956c81dba2",
      "cell_type": "code",
      "source": "import sys\nsys.getsizeof(y)\n",
      "metadata": {
        "trusted": true
      },
      "outputs": [
        {
          "execution_count": 9,
          "output_type": "execute_result",
          "data": {
            "text/plain": "20"
          },
          "metadata": {}
        }
      ],
      "execution_count": 9
    },
    {
      "id": "06bb8de5-5b1e-49a0-b359-bf6fdcb6081d",
      "cell_type": "code",
      "source": "x = 123\nid(x)",
      "metadata": {
        "trusted": true
      },
      "outputs": [
        {
          "execution_count": 10,
          "output_type": "execute_result",
          "data": {
            "text/plain": "3252020"
          },
          "metadata": {}
        }
      ],
      "execution_count": 10
    },
    {
      "id": "1191d09e-6dd7-4953-bc40-e261c32bf8b1",
      "cell_type": "code",
      "source": "x = 456\nid(x)",
      "metadata": {
        "trusted": true
      },
      "outputs": [
        {
          "execution_count": 11,
          "output_type": "execute_result",
          "data": {
            "text/plain": "37597160"
          },
          "metadata": {}
        }
      ],
      "execution_count": 11
    },
    {
      "id": "7c5eb451-37df-4618-83c4-404e047f5a0c",
      "cell_type": "code",
      "source": "x = 123\nprint(type(x))",
      "metadata": {
        "trusted": true
      },
      "outputs": [
        {
          "name": "stdout",
          "output_type": "stream",
          "text": "<class 'int'>\n"
        }
      ],
      "execution_count": 12
    },
    {
      "id": "be7b2a23-aed7-4e0e-acff-84752a9f6350",
      "cell_type": "code",
      "source": "x = 12.35\ny = 1428 E -2\nprint(x)\nprint(y)",
      "metadata": {
        "trusted": true
      },
      "outputs": [
        {
          "ename": "<class 'SyntaxError'>",
          "evalue": "invalid syntax (<ipython-input-13-177a04e5bfda>, line 2)",
          "traceback": [
            "\u001b[0;36m  Cell \u001b[0;32mIn[13], line 2\u001b[0;36m\u001b[0m\n\u001b[0;31m    y = 1428 E -2\u001b[0m\n\u001b[0m             ^\u001b[0m\n\u001b[0;31mSyntaxError\u001b[0m\u001b[0;31m:\u001b[0m invalid syntax\n"
          ],
          "output_type": "error"
        }
      ],
      "execution_count": 13
    },
    {
      "id": "7d4e7780-1072-4c63-83c0-506988c46f12",
      "cell_type": "code",
      "source": "y = 1428E-2\nprint(y)",
      "metadata": {
        "trusted": true
      },
      "outputs": [
        {
          "name": "stdout",
          "output_type": "stream",
          "text": "14.28\n"
        }
      ],
      "execution_count": 14
    },
    {
      "id": "e849c754-bbdc-4cb1-a28c-993fd70f038c",
      "cell_type": "code",
      "source": "z = -125E-1\nprint(z)",
      "metadata": {
        "trusted": true
      },
      "outputs": [
        {
          "name": "stdout",
          "output_type": "stream",
          "text": "-12.5\n"
        }
      ],
      "execution_count": 15
    },
    {
      "id": "d8f2821b-24d3-4c30-87ca-c26186bcdafd",
      "cell_type": "code",
      "source": "x = True\ny = False\nprint(x,y)",
      "metadata": {
        "trusted": true
      },
      "outputs": [
        {
          "name": "stdout",
          "output_type": "stream",
          "text": "True False\n"
        }
      ],
      "execution_count": 16
    },
    {
      "id": "2d1c98a4-578b-4acb-a7ba-60d11479ad22",
      "cell_type": "code",
      "source": "int(y)",
      "metadata": {
        "trusted": true
      },
      "outputs": [
        {
          "execution_count": 17,
          "output_type": "execute_result",
          "data": {
            "text/plain": "0"
          },
          "metadata": {}
        }
      ],
      "execution_count": 17
    },
    {
      "id": "b48a2097-d597-4782-a02e-d2ece5bf9dd1",
      "cell_type": "code",
      "source": "d = 5 + 6j\nprint(type(d))",
      "metadata": {
        "trusted": true
      },
      "outputs": [
        {
          "name": "stdout",
          "output_type": "stream",
          "text": "<class 'complex'>\n"
        }
      ],
      "execution_count": 18
    },
    {
      "id": "f0bdde96-7d90-4c37-8955-820be6186ade",
      "cell_type": "code",
      "source": "d = complex(5,6)\nprint(d)",
      "metadata": {
        "trusted": true
      },
      "outputs": [
        {
          "name": "stdout",
          "output_type": "stream",
          "text": "(5+6j)\n"
        }
      ],
      "execution_count": 19
    },
    {
      "id": "20a70008-386f-431a-a215-c71f5058ac98",
      "cell_type": "code",
      "source": "x = 12_33_45_56\nprint(x)",
      "metadata": {
        "trusted": true
      },
      "outputs": [
        {
          "name": "stdout",
          "output_type": "stream",
          "text": "12334556\n"
        }
      ],
      "execution_count": 20
    },
    {
      "id": "d89320cf-f8e6-4e6e-97cc-9b6a51f9781d",
      "cell_type": "code",
      "source": "x = 456_\ny = _123\nprint(x,y)",
      "metadata": {
        "trusted": true
      },
      "outputs": [
        {
          "ename": "<class 'SyntaxError'>",
          "evalue": "invalid decimal literal (<ipython-input-21-1c784b0ecc2f>, line 1)",
          "traceback": [
            "\u001b[0;36m  Cell \u001b[0;32mIn[21], line 1\u001b[0;36m\u001b[0m\n\u001b[0;31m    x = 456_\u001b[0m\n\u001b[0m           ^\u001b[0m\n\u001b[0;31mSyntaxError\u001b[0m\u001b[0;31m:\u001b[0m invalid decimal literal\n"
          ],
          "output_type": "error"
        }
      ],
      "execution_count": 21
    },
    {
      "id": "c5fc2329-e0de-4e7a-88b2-0bedeb0d64e0",
      "cell_type": "code",
      "source": "y = 13_5.6_7\nprint(y)",
      "metadata": {
        "trusted": true
      },
      "outputs": [
        {
          "name": "stdout",
          "output_type": "stream",
          "text": "135.67\n"
        }
      ],
      "execution_count": 22
    },
    {
      "id": "6303fb99-d999-4f0a-8007-1bc808e1a3db",
      "cell_type": "code",
      "source": "z = 13_8.2_7\nprint(z)\n",
      "metadata": {
        "trusted": true
      },
      "outputs": [
        {
          "name": "stdout",
          "output_type": "stream",
          "text": "138.27\n"
        }
      ],
      "execution_count": 23
    },
    {
      "id": "d3c23ef1-630c-4efa-9463-0fb3ce9ebff7",
      "cell_type": "code",
      "source": "y = 6_._8\nprint(y)",
      "metadata": {
        "trusted": true
      },
      "outputs": [
        {
          "ename": "<class 'SyntaxError'>",
          "evalue": "invalid decimal literal (<ipython-input-24-3a5d02f14491>, line 1)",
          "traceback": [
            "\u001b[0;36m  Cell \u001b[0;32mIn[24], line 1\u001b[0;36m\u001b[0m\n\u001b[0;31m    y = 6_._8\u001b[0m\n\u001b[0m         ^\u001b[0m\n\u001b[0;31mSyntaxError\u001b[0m\u001b[0;31m:\u001b[0m invalid decimal literal\n"
          ],
          "output_type": "error"
        }
      ],
      "execution_count": 24
    },
    {
      "id": "425348e5-afba-465d-87da-d19d9b761995",
      "cell_type": "code",
      "source": "x = 7_8 + 3_4j\nprint(x)",
      "metadata": {
        "trusted": true
      },
      "outputs": [
        {
          "name": "stdout",
          "output_type": "stream",
          "text": "(78+34j)\n"
        }
      ],
      "execution_count": 25
    },
    {
      "id": "28c06a72-f2c7-4032-8893-5043d27f84a3",
      "cell_type": "code",
      "source": "name = '\"Aryan\"'\nprint(name)",
      "metadata": {
        "trusted": true
      },
      "outputs": [
        {
          "name": "stdout",
          "output_type": "stream",
          "text": "\"Aryan\"\n"
        }
      ],
      "execution_count": 26
    },
    {
      "id": "75f29fe8-221d-45f7-9f1d-cdca1cc01caf",
      "cell_type": "code",
      "source": "a = 5\nb = 0b0101\nc = 0o5\nd = 0x5\nprint(a,b,c,d)",
      "metadata": {
        "trusted": true
      },
      "outputs": [
        {
          "name": "stdout",
          "output_type": "stream",
          "text": "5 5 5 5\n"
        }
      ],
      "execution_count": 27
    },
    {
      "id": "334c3668-2580-46e1-8f1d-ca54b07eab73",
      "cell_type": "code",
      "source": "a = 13\nb = 0b01101\nc = 0o15\nd = 0xE\nprint(a,b,c,d)",
      "metadata": {
        "trusted": true
      },
      "outputs": [
        {
          "name": "stdout",
          "output_type": "stream",
          "text": "13 13 13 14\n"
        }
      ],
      "execution_count": 28
    },
    {
      "id": "7693d772-75cd-45a7-90e4-89bed281c2d2",
      "cell_type": "code",
      "source": "a = 11\nb = 0b01011\nc = 0xB\nd = 0o03\nprint(a,b,c,d)",
      "metadata": {
        "trusted": true
      },
      "outputs": [
        {
          "name": "stdout",
          "output_type": "stream",
          "text": "11 11 11 3\n"
        }
      ],
      "execution_count": 30
    },
    {
      "id": "20f83613-82e0-439f-a472-a16e6713844c",
      "cell_type": "code",
      "source": "a = 11\nb = 0b01011\nc = 0xB\nd = 0o03\nprint(a,b,c,d)",
      "metadata": {
        "trusted": true
      },
      "outputs": [
        {
          "name": "stdout",
          "output_type": "stream",
          "text": "11 11 11 3\n"
        }
      ],
      "execution_count": 31
    },
    {
      "id": "555c39ad-9a54-4024-9dba-e52fc4f8df08",
      "cell_type": "code",
      "source": "a = 15\nb = 0o17\nprint(a,b)",
      "metadata": {
        "trusted": true
      },
      "outputs": [
        {
          "name": "stdout",
          "output_type": "stream",
          "text": "15 15\n"
        }
      ],
      "execution_count": 32
    },
    {
      "id": "a504d491-cb34-478a-8d1e-9a1beed93ca5",
      "cell_type": "code",
      "source": "a = 15\nb = bin(15)\nc = oct(15)\nd = hex(15)\nprint(a,b,c,d)",
      "metadata": {
        "trusted": true
      },
      "outputs": [
        {
          "name": "stdout",
          "output_type": "stream",
          "text": "15 0b1111 0o17 0xf\n"
        }
      ],
      "execution_count": 33
    },
    {
      "id": "29d2ff10-885f-4c89-b4d2-11fed3d69ac5",
      "cell_type": "code",
      "source": "a = 13.5\nb = bin(13.5)\nprint(b)",
      "metadata": {
        "trusted": true
      },
      "outputs": [
        {
          "ename": "<class 'TypeError'>",
          "evalue": "'float' object cannot be interpreted as an integer",
          "traceback": [
            "\u001b[0;31m---------------------------------------------------------------------------\u001b[0m",
            "\u001b[0;31mTypeError\u001b[0m                                 Traceback (most recent call last)",
            "Cell \u001b[0;32mIn[34], line 2\u001b[0m\n\u001b[1;32m      1\u001b[0m a \u001b[38;5;241m=\u001b[39m \u001b[38;5;241m13.5\u001b[39m\n\u001b[0;32m----> 2\u001b[0m b \u001b[38;5;241m=\u001b[39m \u001b[38;5;28;43mbin\u001b[39;49m\u001b[43m(\u001b[49m\u001b[38;5;241;43m13.5\u001b[39;49m\u001b[43m)\u001b[49m\n\u001b[1;32m      3\u001b[0m \u001b[38;5;28mprint\u001b[39m(b)\n",
            "\u001b[0;31mTypeError\u001b[0m: 'float' object cannot be interpreted as an integer"
          ],
          "output_type": "error"
        }
      ],
      "execution_count": 34
    },
    {
      "id": "7d49da7b-b037-48ca-b3d7-70f03af22b97",
      "cell_type": "code",
      "source": "a = 5.67\nb = int(a)\nprint(b)",
      "metadata": {
        "trusted": true
      },
      "outputs": [
        {
          "name": "stdout",
          "output_type": "stream",
          "text": "5\n"
        }
      ],
      "execution_count": 35
    },
    {
      "id": "2951664c-bad8-4863-982f-73bcba308bf8",
      "cell_type": "code",
      "source": "s = '2912'\nx = int(s)",
      "metadata": {
        "trusted": true
      },
      "outputs": [],
      "execution_count": 36
    },
    {
      "id": "6a8d15dd-e975-4872-8359-c140c183acee",
      "cell_type": "code",
      "source": "s = '2912'\nx = int(s)",
      "metadata": {
        "trusted": true
      },
      "outputs": [],
      "execution_count": 37
    },
    {
      "id": "22f360b2-a1f1-4c6e-83aa-b32bed0c335a",
      "cell_type": "code",
      "source": "g = '2173'\nx = int(g)",
      "metadata": {
        "trusted": true
      },
      "outputs": [],
      "execution_count": 38
    },
    {
      "id": "dab7b7eb-4660-4281-858b-fea7515021f0",
      "cell_type": "code",
      "source": "g = '2173'\nx = int(g)",
      "metadata": {
        "trusted": true
      },
      "outputs": [],
      "execution_count": 39
    },
    {
      "id": "4d9333cc-bd23-4a41-bbb5-b732a3e806c0",
      "cell_type": "code",
      "source": "x = 14\na = bin(14)\nb = oct(14)\nc = hex(14)\nprint(a,b,c)",
      "metadata": {
        "trusted": true
      },
      "outputs": [
        {
          "name": "stdout",
          "output_type": "stream",
          "text": "0b1110 0o16 0xe\n"
        }
      ],
      "execution_count": 40
    },
    {
      "id": "dd520026-6057-4522-bd16-0bdda335a06d",
      "cell_type": "code",
      "source": "a = 14.6\nb = int(a)\nprint(b)\n",
      "metadata": {
        "trusted": true
      },
      "outputs": [
        {
          "name": "stdout",
          "output_type": "stream",
          "text": "14\n"
        }
      ],
      "execution_count": 41
    },
    {
      "id": "58fcb7b8-600e-4ece-a190-9d420e5252be",
      "cell_type": "code",
      "source": "a = '146'\nc = int(a)\nprint(c)",
      "metadata": {
        "trusted": true
      },
      "outputs": [
        {
          "name": "stdout",
          "output_type": "stream",
          "text": "146\n"
        }
      ],
      "execution_count": 42
    },
    {
      "id": "d76a4efb-eab0-4672-813a-2bc18746a4d6",
      "cell_type": "code",
      "source": "a = 'False'\nb = int(a)\nprint(b)\n",
      "metadata": {
        "trusted": true
      },
      "outputs": [
        {
          "ename": "<class 'ValueError'>",
          "evalue": "invalid literal for int() with base 10: 'False'",
          "traceback": [
            "\u001b[0;31m---------------------------------------------------------------------------\u001b[0m",
            "\u001b[0;31mValueError\u001b[0m                                Traceback (most recent call last)",
            "Cell \u001b[0;32mIn[43], line 2\u001b[0m\n\u001b[1;32m      1\u001b[0m a \u001b[38;5;241m=\u001b[39m \u001b[38;5;124m'\u001b[39m\u001b[38;5;124mFalse\u001b[39m\u001b[38;5;124m'\u001b[39m\n\u001b[0;32m----> 2\u001b[0m b \u001b[38;5;241m=\u001b[39m \u001b[38;5;28;43mint\u001b[39;49m\u001b[43m(\u001b[49m\u001b[43ma\u001b[49m\u001b[43m)\u001b[49m\n\u001b[1;32m      3\u001b[0m \u001b[38;5;28mprint\u001b[39m(b)\n",
            "\u001b[0;31mValueError\u001b[0m: invalid literal for int() with base 10: 'False'"
          ],
          "output_type": "error"
        }
      ],
      "execution_count": 43
    },
    {
      "id": "3c5531e3-cc28-4a06-bef6-768cb4080a17",
      "cell_type": "code",
      "source": "a = False\nb = int(a)\nprint(b)",
      "metadata": {
        "trusted": true
      },
      "outputs": [
        {
          "name": "stdout",
          "output_type": "stream",
          "text": "0\n"
        }
      ],
      "execution_count": 44
    },
    {
      "id": "978e552e-7e46-42a2-9c02-b02a7069b1a5",
      "cell_type": "code",
      "source": "import sys\na = 10\nb = sys.sizeof(a)\nprint(b)",
      "metadata": {
        "trusted": true
      },
      "outputs": [
        {
          "ename": "<class 'AttributeError'>",
          "evalue": "module 'sys' has no attribute 'sizeof'",
          "traceback": [
            "\u001b[0;31m---------------------------------------------------------------------------\u001b[0m",
            "\u001b[0;31mAttributeError\u001b[0m                            Traceback (most recent call last)",
            "Cell \u001b[0;32mIn[45], line 3\u001b[0m\n\u001b[1;32m      1\u001b[0m \u001b[38;5;28;01mimport\u001b[39;00m \u001b[38;5;21;01msys\u001b[39;00m\n\u001b[1;32m      2\u001b[0m a \u001b[38;5;241m=\u001b[39m \u001b[38;5;241m10\u001b[39m\n\u001b[0;32m----> 3\u001b[0m b \u001b[38;5;241m=\u001b[39m \u001b[43msys\u001b[49m\u001b[38;5;241;43m.\u001b[39;49m\u001b[43msizeof\u001b[49m(a)\n\u001b[1;32m      4\u001b[0m \u001b[38;5;28mprint\u001b[39m(b)\n",
            "\u001b[0;31mAttributeError\u001b[0m: module 'sys' has no attribute 'sizeof'"
          ],
          "output_type": "error"
        }
      ],
      "execution_count": 45
    },
    {
      "id": "26f00d58-a327-4091-b90a-ea243196308c",
      "cell_type": "code",
      "source": "import sys\na = 10\nb = sys.getsizeof(a)\nprint(b)",
      "metadata": {
        "trusted": true
      },
      "outputs": [
        {
          "name": "stdout",
          "output_type": "stream",
          "text": "16\n"
        }
      ],
      "execution_count": 46
    },
    {
      "id": "ee3f2218-dd44-4038-92b9-7db92ccef4cf",
      "cell_type": "code",
      "source": "import sys\nc = 'Aryan'\nd = sys.getsizeof(c)\nprint(d)",
      "metadata": {
        "trusted": true
      },
      "outputs": [
        {
          "name": "stdout",
          "output_type": "stream",
          "text": "26\n"
        }
      ],
      "execution_count": 47
    },
    {
      "id": "16f1a50e-76dd-484b-b178-d6c23011d9b8",
      "cell_type": "code",
      "source": "a = '0xB',16\nb = int(a)\nprint(b)",
      "metadata": {
        "trusted": true
      },
      "outputs": [
        {
          "ename": "<class 'TypeError'>",
          "evalue": "int() argument must be a string, a bytes-like object or a real number, not 'tuple'",
          "traceback": [
            "\u001b[0;31m---------------------------------------------------------------------------\u001b[0m",
            "\u001b[0;31mTypeError\u001b[0m                                 Traceback (most recent call last)",
            "Cell \u001b[0;32mIn[48], line 2\u001b[0m\n\u001b[1;32m      1\u001b[0m a \u001b[38;5;241m=\u001b[39m \u001b[38;5;124m'\u001b[39m\u001b[38;5;124m0xB\u001b[39m\u001b[38;5;124m'\u001b[39m,\u001b[38;5;241m16\u001b[39m\n\u001b[0;32m----> 2\u001b[0m b \u001b[38;5;241m=\u001b[39m \u001b[38;5;28;43mint\u001b[39;49m\u001b[43m(\u001b[49m\u001b[43ma\u001b[49m\u001b[43m)\u001b[49m\n\u001b[1;32m      3\u001b[0m \u001b[38;5;28mprint\u001b[39m(b)\n",
            "\u001b[0;31mTypeError\u001b[0m: int() argument must be a string, a bytes-like object or a real number, not 'tuple'"
          ],
          "output_type": "error"
        }
      ],
      "execution_count": 48
    },
    {
      "id": "b3ad79b0-abcc-45e3-a799-e9f783b9fdc1",
      "cell_type": "code",
      "source": "a = '0xB'\nb = int(a)\nprint(b)",
      "metadata": {
        "trusted": true
      },
      "outputs": [
        {
          "ename": "<class 'ValueError'>",
          "evalue": "invalid literal for int() with base 10: '0xB'",
          "traceback": [
            "\u001b[0;31m---------------------------------------------------------------------------\u001b[0m",
            "\u001b[0;31mValueError\u001b[0m                                Traceback (most recent call last)",
            "Cell \u001b[0;32mIn[49], line 2\u001b[0m\n\u001b[1;32m      1\u001b[0m a \u001b[38;5;241m=\u001b[39m \u001b[38;5;124m'\u001b[39m\u001b[38;5;124m0xB\u001b[39m\u001b[38;5;124m'\u001b[39m\n\u001b[0;32m----> 2\u001b[0m b \u001b[38;5;241m=\u001b[39m \u001b[38;5;28;43mint\u001b[39;49m\u001b[43m(\u001b[49m\u001b[43ma\u001b[49m\u001b[43m)\u001b[49m\n\u001b[1;32m      3\u001b[0m \u001b[38;5;28mprint\u001b[39m(b)\n",
            "\u001b[0;31mValueError\u001b[0m: invalid literal for int() with base 10: '0xB'"
          ],
          "output_type": "error"
        }
      ],
      "execution_count": 49
    },
    {
      "id": "249c6183-9f18-4ea8-8420-839da790946e",
      "cell_type": "code",
      "source": "a = ('0xB',16)\nb = int(a)\nprint(b)",
      "metadata": {
        "trusted": true
      },
      "outputs": [
        {
          "ename": "<class 'TypeError'>",
          "evalue": "int() argument must be a string, a bytes-like object or a real number, not 'tuple'",
          "traceback": [
            "\u001b[0;31m---------------------------------------------------------------------------\u001b[0m",
            "\u001b[0;31mTypeError\u001b[0m                                 Traceback (most recent call last)",
            "Cell \u001b[0;32mIn[50], line 2\u001b[0m\n\u001b[1;32m      1\u001b[0m a \u001b[38;5;241m=\u001b[39m (\u001b[38;5;124m'\u001b[39m\u001b[38;5;124m0xB\u001b[39m\u001b[38;5;124m'\u001b[39m,\u001b[38;5;241m16\u001b[39m)\n\u001b[0;32m----> 2\u001b[0m b \u001b[38;5;241m=\u001b[39m \u001b[38;5;28;43mint\u001b[39;49m\u001b[43m(\u001b[49m\u001b[43ma\u001b[49m\u001b[43m)\u001b[49m\n\u001b[1;32m      3\u001b[0m \u001b[38;5;28mprint\u001b[39m(b)\n",
            "\u001b[0;31mTypeError\u001b[0m: int() argument must be a string, a bytes-like object or a real number, not 'tuple'"
          ],
          "output_type": "error"
        }
      ],
      "execution_count": 50
    },
    {
      "id": "7dcea9cf-ed9c-4062-9381-febd0feeb8ad",
      "cell_type": "code",
      "source": "a = int('0xC',16)\nprint(a)",
      "metadata": {
        "trusted": true
      },
      "outputs": [
        {
          "name": "stdout",
          "output_type": "stream",
          "text": "12\n"
        }
      ],
      "execution_count": 51
    },
    {
      "id": "d67b914d-98b7-4ec9-a2ec-82f564fa142b",
      "cell_type": "code",
      "source": "a = bool(5)\nprint(a)",
      "metadata": {
        "trusted": true
      },
      "outputs": [
        {
          "name": "stdout",
          "output_type": "stream",
          "text": "True\n"
        }
      ],
      "execution_count": 52
    },
    {
      "id": "5b4ec87f-2de1-4171-9bc0-e94ecdc28460",
      "cell_type": "code",
      "source": "b = bool('False')\nprint(b)",
      "metadata": {
        "trusted": true
      },
      "outputs": [
        {
          "name": "stdout",
          "output_type": "stream",
          "text": "True\n"
        }
      ],
      "execution_count": 53
    },
    {
      "id": "9e39b400-2b15-4d8a-8c6f-107dd0a9ce13",
      "cell_type": "code",
      "source": "c = bool(True)",
      "metadata": {
        "trusted": true
      },
      "outputs": [],
      "execution_count": 54
    },
    {
      "id": "5da33fbb-440f-4010-a4c4-695395e2d81f",
      "cell_type": "code",
      "source": "print(c)",
      "metadata": {
        "trusted": true
      },
      "outputs": [
        {
          "name": "stdout",
          "output_type": "stream",
          "text": "True\n"
        }
      ],
      "execution_count": 55
    },
    {
      "id": "22d4bb26-6b2c-48d8-9c3c-f16a4d71bd05",
      "cell_type": "code",
      "source": "d = bool()\nprint(d)",
      "metadata": {
        "trusted": true
      },
      "outputs": [
        {
          "name": "stdout",
          "output_type": "stream",
          "text": "False\n"
        }
      ],
      "execution_count": 56
    },
    {
      "id": "74abb66a-df12-4d1f-8c24-0f56129cefa5",
      "cell_type": "code",
      "source": "a = 14.5E-1\nprint(a)",
      "metadata": {
        "trusted": true
      },
      "outputs": [
        {
          "name": "stdout",
          "output_type": "stream",
          "text": "1.45\n"
        }
      ],
      "execution_count": 57
    },
    {
      "id": "7f21f50f-5be1-449c-8fee-a77f8736e330",
      "cell_type": "code",
      "source": "d = complex(True)\nprint(d)",
      "metadata": {
        "trusted": true
      },
      "outputs": [
        {
          "name": "stdout",
          "output_type": "stream",
          "text": "(1+0j)\n"
        }
      ],
      "execution_count": 58
    },
    {
      "id": "8ef3c5d6-9d5c-44fd-9710-003bc5ed0a11",
      "cell_type": "code",
      "source": "e = complex('5i + 6j')\nprint(e)",
      "metadata": {
        "trusted": true
      },
      "outputs": [
        {
          "ename": "<class 'ValueError'>",
          "evalue": "complex() arg is a malformed string",
          "traceback": [
            "\u001b[0;31m---------------------------------------------------------------------------\u001b[0m",
            "\u001b[0;31mValueError\u001b[0m                                Traceback (most recent call last)",
            "Cell \u001b[0;32mIn[59], line 1\u001b[0m\n\u001b[0;32m----> 1\u001b[0m e \u001b[38;5;241m=\u001b[39m \u001b[38;5;28;43mcomplex\u001b[39;49m\u001b[43m(\u001b[49m\u001b[38;5;124;43m'\u001b[39;49m\u001b[38;5;124;43m5i + 6j\u001b[39;49m\u001b[38;5;124;43m'\u001b[39;49m\u001b[43m)\u001b[49m\n\u001b[1;32m      2\u001b[0m \u001b[38;5;28mprint\u001b[39m(e)\n",
            "\u001b[0;31mValueError\u001b[0m: complex() arg is a malformed string"
          ],
          "output_type": "error"
        }
      ],
      "execution_count": 59
    },
    {
      "id": "2edf44e6-4a33-4e04-9bbf-92c5fa8cbf60",
      "cell_type": "code",
      "source": "e = complex('5i+6j')\nprint(e)",
      "metadata": {
        "trusted": true
      },
      "outputs": [
        {
          "ename": "<class 'ValueError'>",
          "evalue": "complex() arg is a malformed string",
          "traceback": [
            "\u001b[0;31m---------------------------------------------------------------------------\u001b[0m",
            "\u001b[0;31mValueError\u001b[0m                                Traceback (most recent call last)",
            "Cell \u001b[0;32mIn[60], line 1\u001b[0m\n\u001b[0;32m----> 1\u001b[0m e \u001b[38;5;241m=\u001b[39m \u001b[38;5;28;43mcomplex\u001b[39;49m\u001b[43m(\u001b[49m\u001b[38;5;124;43m'\u001b[39;49m\u001b[38;5;124;43m5i+6j\u001b[39;49m\u001b[38;5;124;43m'\u001b[39;49m\u001b[43m)\u001b[49m\n\u001b[1;32m      2\u001b[0m \u001b[38;5;28mprint\u001b[39m(e)\n",
            "\u001b[0;31mValueError\u001b[0m: complex() arg is a malformed string"
          ],
          "output_type": "error"
        }
      ],
      "execution_count": 60
    },
    {
      "id": "5e7a4d10-f523-42a6-893f-e717c1034f97",
      "cell_type": "code",
      "source": "e = complex(6)\nprint(e)",
      "metadata": {
        "trusted": true
      },
      "outputs": [
        {
          "name": "stdout",
          "output_type": "stream",
          "text": "(6+0j)\n"
        }
      ],
      "execution_count": 61
    },
    {
      "id": "de1714c1-26cb-4c42-9345-4a13aad0010f",
      "cell_type": "code",
      "source": "f = complex(False)\nprint(f)\n",
      "metadata": {
        "trusted": true
      },
      "outputs": [
        {
          "name": "stdout",
          "output_type": "stream",
          "text": "0j\n"
        }
      ],
      "execution_count": 62
    },
    {
      "id": "e253cb7f-8e13-4ef1-8a30-44ff07ead3ac",
      "cell_type": "code",
      "source": "g = str(-1.2E-1)\nprint(g)",
      "metadata": {
        "trusted": true
      },
      "outputs": [
        {
          "name": "stdout",
          "output_type": "stream",
          "text": "-0.12\n"
        }
      ],
      "execution_count": 65
    },
    {
      "id": "f3f30f88-e2b5-4238-bf2b-17c5aaa3d677",
      "cell_type": "code",
      "source": "a = float(12)\nb = print(a)\nprint(b)",
      "metadata": {
        "trusted": true
      },
      "outputs": [
        {
          "name": "stdout",
          "output_type": "stream",
          "text": "12.0\nNone\n"
        }
      ],
      "execution_count": 64
    },
    {
      "id": "5a599c0d-5df0-4578-bf43-433166b9d00a",
      "cell_type": "code",
      "source": "a = int(12.45)\nprint(a)",
      "metadata": {
        "trusted": true
      },
      "outputs": [
        {
          "name": "stdout",
          "output_type": "stream",
          "text": "12\n"
        }
      ],
      "execution_count": 66
    },
    {
      "id": "cf62a745-215c-4482-8888-7c7bbe25c592",
      "cell_type": "code",
      "source": "g = str('123')\nprint(g)",
      "metadata": {
        "trusted": true
      },
      "outputs": [
        {
          "name": "stdout",
          "output_type": "stream",
          "text": "123\n"
        }
      ],
      "execution_count": 67
    },
    {
      "id": "d9af4ea8-4722-41c7-ba80-859ea0ff54cd",
      "cell_type": "code",
      "source": "h = 23\nj = type(h)\nprint(j)",
      "metadata": {
        "trusted": true
      },
      "outputs": [
        {
          "name": "stdout",
          "output_type": "stream",
          "text": "<class 'int'>\n"
        }
      ],
      "execution_count": 68
    },
    {
      "id": "84a93331-7d48-4774-a60f-e86ba6098de1",
      "cell_type": "code",
      "source": "k = bool()\nprint(k)",
      "metadata": {
        "trusted": true
      },
      "outputs": [
        {
          "name": "stdout",
          "output_type": "stream",
          "text": "False\n"
        }
      ],
      "execution_count": 69
    },
    {
      "id": "0b35b96d-e420-43b4-ba5c-477ad1f97d62",
      "cell_type": "code",
      "source": "a = 5//9\nb = 5**9\nprint(a,b)",
      "metadata": {
        "trusted": true
      },
      "outputs": [
        {
          "name": "stdout",
          "output_type": "stream",
          "text": "0 1953125\n"
        }
      ],
      "execution_count": 70
    },
    {
      "id": "8e8c3451-0549-417a-8be0-7b16697d8624",
      "cell_type": "code",
      "source": "b = 12\nc = 3\nd = b+c\ne = b-c\nf = b/c\ng = b//c\nh = b**c\nprint(d,e,f,g,h)",
      "metadata": {
        "trusted": true
      },
      "outputs": [
        {
          "name": "stdout",
          "output_type": "stream",
          "text": "15 9 4.0 4 1728\n"
        }
      ],
      "execution_count": 71
    },
    {
      "id": "c123d5f3-085e-4e95-8110-7023fc8d5d56",
      "cell_type": "code",
      "source": "a = 5\nb = 4\narea = a*b\nprint(area)",
      "metadata": {
        "trusted": true
      },
      "outputs": [
        {
          "name": "stdout",
          "output_type": "stream",
          "text": "20\n"
        }
      ],
      "execution_count": 72
    },
    {
      "id": "88584152-ba0b-44f6-868d-044de3a92342",
      "cell_type": "code",
      "source": "a = 4*6+ 5**5\nprint(a)",
      "metadata": {
        "trusted": true
      },
      "outputs": [
        {
          "name": "stdout",
          "output_type": "stream",
          "text": "3149\n"
        }
      ],
      "execution_count": 73
    },
    {
      "id": "a1e81d69-db67-44dd-8299-0567efb94cd5",
      "cell_type": "code",
      "source": "base = 14\nheight = 7\narea = 0.5*base*height\nprint(area)",
      "metadata": {
        "trusted": true
      },
      "outputs": [
        {
          "name": "stdout",
          "output_type": "stream",
          "text": "49.0\n"
        }
      ],
      "execution_count": 74
    },
    {
      "id": "e9cc33da-fabe-4cf5-b237-0a59953adf16",
      "cell_type": "code",
      "source": "radius = 4\narea = 3.14*radius*radius\nprint('Area of circle',area)",
      "metadata": {
        "trusted": true
      },
      "outputs": [
        {
          "name": "stdout",
          "output_type": "stream",
          "text": "Area of circle 50.24\n"
        }
      ],
      "execution_count": 75
    },
    {
      "id": "460d558d-1113-4350-b7c2-9d66d42bd0df",
      "cell_type": "code",
      "source": "base = 13\na = 4\nb = 6\nareaoftrapezium = 0.5*base*(a+b)\nprint(areaoftrapezium)",
      "metadata": {
        "trusted": true
      },
      "outputs": [
        {
          "name": "stdout",
          "output_type": "stream",
          "text": "65.0\n"
        }
      ],
      "execution_count": 76
    },
    {
      "id": "de843488-ba97-4e8c-a509-caff336e96c6",
      "cell_type": "code",
      "source": " u = 12\nv = 16\na = 3\ndisplacement = (v*v - u*u)/(2*a)\nprint(displacement)\n",
      "metadata": {
        "trusted": true
      },
      "outputs": [
        {
          "name": "stdout",
          "output_type": "stream",
          "text": "18.666666666666668\n"
        }
      ],
      "execution_count": 77
    },
    {
      "id": "cf712f98-c1ad-4b01-9ebb-ea50e6658ae7",
      "cell_type": "code",
      "source": "d = 15\nDistance in miles = 0.62171*d\nprint(Distance in miles)",
      "metadata": {
        "trusted": true
      },
      "outputs": [
        {
          "ename": "<class 'SyntaxError'>",
          "evalue": "cannot assign to comparison (<ipython-input-78-a1fd7444b645>, line 2)",
          "traceback": [
            "\u001b[0;36m  Cell \u001b[0;32mIn[78], line 2\u001b[0;36m\u001b[0m\n\u001b[0;31m    Distance in miles = 0.62171*d\u001b[0m\n\u001b[0m    ^\u001b[0m\n\u001b[0;31mSyntaxError\u001b[0m\u001b[0;31m:\u001b[0m cannot assign to comparison\n"
          ],
          "output_type": "error"
        }
      ],
      "execution_count": 78
    },
    {
      "id": "2f8abcef-a301-45ab-8978-914663a4ea1c",
      "cell_type": "code",
      "source": "d = 14\nmiles = 0.6271*d\nprint(miles)",
      "metadata": {
        "trusted": true
      },
      "outputs": [
        {
          "name": "stdout",
          "output_type": "stream",
          "text": "8.779399999999999\n"
        }
      ],
      "execution_count": 79
    },
    {
      "id": "32c2f71d-c59e-42e4-b3cd-04b5743ad72f",
      "cell_type": "code",
      "source": "miles = int(input(\"Enter the distance in miles\"))\ndkm = 0.6271*miles\nprint(dkm)\n\n\n",
      "metadata": {
        "trusted": true
      },
      "outputs": [
        {
          "ename": "<class 'SyntaxError'>",
          "evalue": "'(' was never closed (<ipython-input-80-32460202e4ee>, line 1)",
          "traceback": [
            "\u001b[0;36m  Cell \u001b[0;32mIn[80], line 1\u001b[0;36m\u001b[0m\n\u001b[0;31m    miles = int(input(\"Enter the distance in miles\")\u001b[0m\n\u001b[0m               ^\u001b[0m\n\u001b[0;31mSyntaxError\u001b[0m\u001b[0;31m:\u001b[0m '(' was never closed\n"
          ],
          "output_type": "error"
        }
      ],
      "execution_count": 80
    },
    {
      "id": "3d146b6a-51a7-400b-93a2-869db0903f6e",
      "cell_type": "code",
      "source": "miles = int(input(\"Enter the distance in miles\"))\ndkm = 0.6271*miles\nprint(dkm)\n",
      "metadata": {
        "trusted": true
      },
      "outputs": [
        {
          "ename": "<class 'TypeError'>",
          "evalue": "int() argument must be a string, a bytes-like object or a real number, not 'PyodideFuture'",
          "traceback": [
            "\u001b[0;31m---------------------------------------------------------------------------\u001b[0m",
            "\u001b[0;31mTypeError\u001b[0m                                 Traceback (most recent call last)",
            "Cell \u001b[0;32mIn[81], line 1\u001b[0m\n\u001b[0;32m----> 1\u001b[0m miles \u001b[38;5;241m=\u001b[39m \u001b[38;5;28;43mint\u001b[39;49m\u001b[43m(\u001b[49m\u001b[38;5;28;43minput\u001b[39;49m\u001b[43m(\u001b[49m\u001b[38;5;124;43m\"\u001b[39;49m\u001b[38;5;124;43mEnter the distance in miles\u001b[39;49m\u001b[38;5;124;43m\"\u001b[39;49m\u001b[43m)\u001b[49m\u001b[43m)\u001b[49m\n\u001b[1;32m      2\u001b[0m dkm \u001b[38;5;241m=\u001b[39m \u001b[38;5;241m0.6271\u001b[39m\u001b[38;5;241m*\u001b[39mmiles\n\u001b[1;32m      3\u001b[0m \u001b[38;5;28mprint\u001b[39m(dkm)\n",
            "\u001b[0;31mTypeError\u001b[0m: int() argument must be a string, a bytes-like object or a real number, not 'PyodideFuture'"
          ],
          "output_type": "error"
        },
        {
          "output_type": "stream",
          "name": "stdin",
          "text": "Enter the distance in miles 5.7\n"
        }
      ],
      "execution_count": 81
    },
    {
      "id": "41848641-180e-4160-8ab5-39e681ab8d77",
      "cell_type": "code",
      "source": "miles = int(input(\"Enter the distance in miles\"))\ndkm = 0.6271*miles\nprint(dkm)",
      "metadata": {
        "trusted": true
      },
      "outputs": [
        {
          "ename": "<class 'TypeError'>",
          "evalue": "int() argument must be a string, a bytes-like object or a real number, not 'PyodideFuture'",
          "traceback": [
            "\u001b[0;31m---------------------------------------------------------------------------\u001b[0m",
            "\u001b[0;31mTypeError\u001b[0m                                 Traceback (most recent call last)",
            "Cell \u001b[0;32mIn[83], line 1\u001b[0m\n\u001b[0;32m----> 1\u001b[0m miles \u001b[38;5;241m=\u001b[39m \u001b[38;5;28;43mint\u001b[39;49m\u001b[43m(\u001b[49m\u001b[38;5;28;43minput\u001b[39;49m\u001b[43m(\u001b[49m\u001b[38;5;124;43m\"\u001b[39;49m\u001b[38;5;124;43mEnter the distance in miles\u001b[39;49m\u001b[38;5;124;43m\"\u001b[39;49m\u001b[43m)\u001b[49m\u001b[43m)\u001b[49m\n\u001b[1;32m      2\u001b[0m dkm \u001b[38;5;241m=\u001b[39m \u001b[38;5;241m0.6271\u001b[39m\u001b[38;5;241m*\u001b[39mmiles\n\u001b[1;32m      3\u001b[0m \u001b[38;5;28mprint\u001b[39m(dkm)\n",
            "\u001b[0;31mTypeError\u001b[0m: int() argument must be a string, a bytes-like object or a real number, not 'PyodideFuture'"
          ],
          "output_type": "error"
        },
        {
          "output_type": "stream",
          "name": "stdin",
          "text": "Enter the distance in miles 6.7\n"
        }
      ],
      "execution_count": 83
    },
    {
      "id": "b32980f4-b3a6-4f35-b62a-1453e77025c6",
      "cell_type": "code",
      "source": "miles = int(input(\"Enter the distance\"))\ndkm = 0.6271*miles\nprint(dkm)",
      "metadata": {
        "trusted": true
      },
      "outputs": [],
      "execution_count": null
    },
    {
      "id": "ebba2131-818d-42f6-9a24-6c72dd9f8e58",
      "cell_type": "code",
      "source": "miles = input(\"Enter the distance\")\ndkm = 0.6271* miles\nprint(dkm)",
      "metadata": {
        "trusted": true
      },
      "outputs": [
        {
          "ename": "<class 'TypeError'>",
          "evalue": "unsupported operand type(s) for *: 'float' and 'PyodideFuture'",
          "traceback": [
            "\u001b[0;31m---------------------------------------------------------------------------\u001b[0m",
            "\u001b[0;31mTypeError\u001b[0m                                 Traceback (most recent call last)",
            "Cell \u001b[0;32mIn[84], line 2\u001b[0m\n\u001b[1;32m      1\u001b[0m miles \u001b[38;5;241m=\u001b[39m \u001b[38;5;28minput\u001b[39m(\u001b[38;5;124m\"\u001b[39m\u001b[38;5;124mEnter the distance\u001b[39m\u001b[38;5;124m\"\u001b[39m)\n\u001b[0;32m----> 2\u001b[0m dkm \u001b[38;5;241m=\u001b[39m \u001b[38;5;241;43m0.6271\u001b[39;49m\u001b[38;5;241;43m*\u001b[39;49m\u001b[43mmiles\u001b[49m\n\u001b[1;32m      3\u001b[0m \u001b[38;5;28mprint\u001b[39m(dkm)\n",
            "\u001b[0;31mTypeError\u001b[0m: unsupported operand type(s) for *: 'float' and 'PyodideFuture'"
          ],
          "output_type": "error"
        },
        {
          "output_type": "stream",
          "name": "stdin",
          "text": "Enter the distance 7.8\n"
        }
      ],
      "execution_count": 84
    },
    {
      "id": "88b79139-7353-42bf-aaac-a34aadb4c0f5",
      "cell_type": "code",
      "source": "miles = input(\"Enter the distance\")\ndkm = 0.6271* miles\nprint(dkm)",
      "metadata": {
        "trusted": true
      },
      "outputs": [
        {
          "ename": "<class 'TypeError'>",
          "evalue": "unsupported operand type(s) for *: 'float' and 'PyodideFuture'",
          "traceback": [
            "\u001b[0;31m---------------------------------------------------------------------------\u001b[0m",
            "\u001b[0;31mTypeError\u001b[0m                                 Traceback (most recent call last)",
            "Cell \u001b[0;32mIn[85], line 2\u001b[0m\n\u001b[1;32m      1\u001b[0m miles \u001b[38;5;241m=\u001b[39m \u001b[38;5;28minput\u001b[39m(\u001b[38;5;124m\"\u001b[39m\u001b[38;5;124mEnter the distance\u001b[39m\u001b[38;5;124m\"\u001b[39m)\n\u001b[0;32m----> 2\u001b[0m dkm \u001b[38;5;241m=\u001b[39m \u001b[38;5;241;43m0.6271\u001b[39;49m\u001b[38;5;241;43m*\u001b[39;49m\u001b[43m \u001b[49m\u001b[43mmiles\u001b[49m\n\u001b[1;32m      3\u001b[0m \u001b[38;5;28mprint\u001b[39m(dkm)\n",
            "\u001b[0;31mTypeError\u001b[0m: unsupported operand type(s) for *: 'float' and 'PyodideFuture'"
          ],
          "output_type": "error"
        }
      ],
      "execution_count": 85
    },
    {
      "id": "6dc8429c-50ff-4945-aecd-dd5f6985153d",
      "cell_type": "code",
      "source": "",
      "metadata": {
        "trusted": true
      },
      "outputs": [],
      "execution_count": null
    }
  ]
}