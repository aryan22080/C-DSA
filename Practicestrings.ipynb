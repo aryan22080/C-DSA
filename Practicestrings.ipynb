{
 "cells": [
  {
   "cell_type": "code",
   "execution_count": 1,
   "id": "569b3b3d-2310-42c6-9f76-a7dd07a317e2",
   "metadata": {},
   "outputs": [
    {
     "name": "stdout",
     "output_type": "stream",
     "text": [
      "Hello World\n"
     ]
    }
   ],
   "source": [
    "#q1\n",
    "first = \"Hello\"\n",
    "second = \"World\"\n",
    "s3 = first + \" \" + second\n",
    "print(s3)"
   ]
  },
  {
   "cell_type": "code",
   "execution_count": 2,
   "id": "e48a15c3-2a9a-48e9-8dda-84060805b2a8",
   "metadata": {},
   "outputs": [
    {
     "name": "stdout",
     "output_type": "stream",
     "text": [
      "abcabcabcabc\n"
     ]
    }
   ],
   "source": [
    "s = 'abc' #q2\n",
    "d = s*4\n",
    "print(d)"
   ]
  },
  {
   "cell_type": "code",
   "execution_count": 64,
   "id": "02876914-743e-4ef0-b05c-be84cfba266f",
   "metadata": {},
   "outputs": [
    {
     "name": "stdout",
     "output_type": "stream",
     "text": [
      "7\n"
     ]
    }
   ],
   "source": [
    "#q3\n",
    "text = \"Python programming is fun\"\n",
    "s = text.find(\"programming\")\n",
    "print(s)"
   ]
  },
  {
   "cell_type": "code",
   "execution_count": 7,
   "id": "7d4604a0-f678-4e85-a394-1e3ae2a249dc",
   "metadata": {},
   "outputs": [
    {
     "name": "stdout",
     "output_type": "stream",
     "text": [
      "0 0\n"
     ]
    }
   ],
   "source": [
    "text = \"Java\"\n",
    "c = text.index(\"Java\")#q3\n",
    "d = text.find(\"Java\") #q4\n",
    "print(c,d)\n",
    "              \n",
    "        "
   ]
  },
  {
   "cell_type": "code",
   "execution_count": 65,
   "id": "4ffc4727-5c84-40c3-abbe-8ccf1b5e9753",
   "metadata": {},
   "outputs": [
    {
     "name": "stdout",
     "output_type": "stream",
     "text": [
      "a-b-c d\n"
     ]
    }
   ],
   "source": [
    "#a5\n",
    "d = \"a b c d\"\n",
    "e = d.replace(\" \",\"-\",2)\n",
    "print(e)"
   ]
  },
  {
   "cell_type": "code",
   "execution_count": 10,
   "id": "e170c7c5-e8b3-46b6-8508-d34c17219d87",
   "metadata": {},
   "outputs": [
    {
     "name": "stdout",
     "output_type": "stream",
     "text": [
      "['apple', 'banana', 'grape']\n"
     ]
    }
   ],
   "source": [
    "s = \"apple,banana,grape\"\n",
    "j = s.split(\",\")\n",
    "print(j)  #q6\n",
    "\n"
   ]
  },
  {
   "cell_type": "code",
   "execution_count": 13,
   "id": "5959c829-c561-4824-a710-40314e366601",
   "metadata": {},
   "outputs": [
    {
     "name": "stdout",
     "output_type": "stream",
     "text": [
      "True True\n"
     ]
    }
   ],
   "source": [
    "string = \"unhappy\"\n",
    "y = string.startswith('un')\n",
    "z = string.endswith('py')\n",
    "print(y,z) #q8\n",
    "                    \n",
    "                      \n"
   ]
  },
  {
   "cell_type": "code",
   "execution_count": 15,
   "id": "70f71b82-9925-47cf-8460-e492b8bf7d1a",
   "metadata": {},
   "outputs": [
    {
     "name": "stdout",
     "output_type": "stream",
     "text": [
      "happy runn\n"
     ]
    }
   ],
   "source": [
    "#q9\n",
    "string = \"unhappy\"\n",
    "h = string.removeprefix('un')\n",
    "j = \"running\"\n",
    "k = j.removesuffix('ing')\n",
    "print(h,k)\n"
   ]
  },
  {
   "cell_type": "code",
   "execution_count": 16,
   "id": "81fcdf13-cf0f-4737-bdee-fa94e1894bab",
   "metadata": {},
   "outputs": [
    {
     "name": "stdout",
     "output_type": "stream",
     "text": [
      "hi********\n"
     ]
    }
   ],
   "source": [
    "#q10\n",
    "l = \"hi\"\n",
    "m = l.ljust(10,'*')\n",
    "print(m)"
   ]
  },
  {
   "cell_type": "code",
   "execution_count": 17,
   "id": "cb5b6a3e-4717-413f-95a2-a95efaa03a85",
   "metadata": {},
   "outputs": [
    {
     "name": "stdout",
     "output_type": "stream",
     "text": [
      "-----Bye\n"
     ]
    }
   ],
   "source": [
    "#q11\n",
    "n = 'Bye'\n",
    "v = n.rjust(8,'-')\n",
    "print(v)"
   ]
  },
  {
   "cell_type": "code",
   "execution_count": 18,
   "id": "e1c26236-d8a1-423f-9b4a-8937cc24a7e8",
   "metadata": {},
   "outputs": [
    {
     "name": "stdout",
     "output_type": "stream",
     "text": [
      "Hello World\n"
     ]
    }
   ],
   "source": [
    "#q12\n",
    "s = \" Hello World \"\n",
    "z = s.strip(\" \")\n",
    "print(z)\n"
   ]
  },
  {
   "cell_type": "code",
   "execution_count": 19,
   "id": "4f2354de-9a48-41b3-a43b-231be0e3b269",
   "metadata": {},
   "outputs": [
    {
     "name": "stdout",
     "output_type": "stream",
     "text": [
      "Hello\n"
     ]
    }
   ],
   "source": [
    "a = \"xyxxyHello\"\n",
    "b = a.lstrip('xy')\n",
    "print(b) #q`13\n"
   ]
  },
  {
   "cell_type": "code",
   "execution_count": 21,
   "id": "e4b20195-1682-4942-9424-9523877a15f5",
   "metadata": {},
   "outputs": [
    {
     "name": "stdout",
     "output_type": "stream",
     "text": [
      "Wow\n"
     ]
    }
   ],
   "source": [
    "c = \"Wow!!!\"\n",
    "d = c.rstrip(\"!\")\n",
    "print(d) #q14"
   ]
  },
  {
   "cell_type": "code",
   "execution_count": 23,
   "id": "b3783b6e-c520-4c15-a710-903d890fbd17",
   "metadata": {},
   "outputs": [
    {
     "name": "stdout",
     "output_type": "stream",
     "text": [
      "This is a *** example of *** behavior\n"
     ]
    }
   ],
   "source": [
    "#q1\n",
    "sentence = \"This is a bad example of bad behavior\"\n",
    "f = sentence.replace(\"bad\",\"***\",2)\n",
    "print(f)"
   ]
  },
  {
   "cell_type": "code",
   "execution_count": 26,
   "id": "a8f6f530-26e9-46ef-b30c-6f1dafd06149",
   "metadata": {},
   "outputs": [
    {
     "name": "stdout",
     "output_type": "stream",
     "text": [
      "('user', '@', 'example.com')\n"
     ]
    }
   ],
   "source": [
    "s = \"user@example.com\"\n",
    "j = s.partition(\"@\")\n",
    "print(j)"
   ]
  },
  {
   "cell_type": "code",
   "execution_count": null,
   "id": "45155f20-cfdf-4059-955a-d15e7023d4b8",
   "metadata": {},
   "outputs": [],
   "source": [
    "data = \"name,age,location,country\"`"
   ]
  },
  {
   "cell_type": "code",
   "execution_count": 2,
   "id": "b72d6528-316a-4e7a-b799-5cb7f814ea27",
   "metadata": {},
   "outputs": [
    {
     "name": "stdin",
     "output_type": "stream",
     "text": [
      "Enter a number 9\n"
     ]
    },
    {
     "name": "stdout",
     "output_type": "stream",
     "text": [
      "Odd\n"
     ]
    }
   ],
   "source": [
    "n = int(input(\"Enter a number\"))\n",
    "if n%2==0 :\n",
    "    print(\"Even\")\n",
    "else:\n",
    "    print(\"Odd\")"
   ]
  },
  {
   "cell_type": "code",
   "execution_count": 3,
   "id": "b336be2d-f17c-4bb7-8f85-294ed5da03b5",
   "metadata": {},
   "outputs": [
    {
     "name": "stdin",
     "output_type": "stream",
     "text": [
      "Enter a number 1 15\n",
      "Enter a number 2 14\n"
     ]
    },
    {
     "name": "stdout",
     "output_type": "stream",
     "text": [
      "29 1 210 1.0714285714285714\n"
     ]
    }
   ],
   "source": [
    "#q3\n",
    "n1 = int(input(\"Enter a number 1\"))\n",
    "n2 = int(input(\"Enter a number 2\"))\n",
    "a = n1 + n2\n",
    "b = n1 - n2\n",
    "c = n1*n2\n",
    "d = n1/n2\n",
    "print(a,b,c,d)"
   ]
  },
  {
   "cell_type": "code",
   "execution_count": 7,
   "id": "b21df8bd-bfe6-492c-b457-ec974f2817c0",
   "metadata": {},
   "outputs": [
    {
     "name": "stdin",
     "output_type": "stream",
     "text": [
      "Enter a number 0\n"
     ]
    },
    {
     "name": "stdout",
     "output_type": "stream",
     "text": [
      "Zero\n"
     ]
    }
   ],
   "source": [
    "#q7\n",
    "n = int(input(\"Enter a number\"))\n",
    "if (n>0):\n",
    "    print(\"Positive\")\n",
    "elif n<0:\n",
    "    print(\"Negative\")\n",
    "else:\n",
    "    print(\"Zero\")\n"
   ]
  },
  {
   "cell_type": "code",
   "execution_count": 11,
   "id": "4cd6152c-a874-4205-aacd-6ff7334fabcc",
   "metadata": {},
   "outputs": [
    {
     "name": "stdin",
     "output_type": "stream",
     "text": [
      "Enter a year 1999\n"
     ]
    },
    {
     "name": "stdout",
     "output_type": "stream",
     "text": [
      "Non leap year\n"
     ]
    }
   ],
   "source": [
    "year = int(input(\"Enter a year\"))\n",
    "if (year%4== 0 or (year%100!=0 and year%400==0)):\n",
    "    print(\"Leap year\")\n",
    "else:\n",
    "    print(\"Non leap year\") #q8"
   ]
  },
  {
   "cell_type": "code",
   "execution_count": 16,
   "id": "622677e9-9647-4210-ba73-8bd9bf7d9d5e",
   "metadata": {},
   "outputs": [
    {
     "name": "stdin",
     "output_type": "stream",
     "text": [
      "Enter a number 5\n"
     ]
    }
   ],
   "source": [
    "n = int(input(\"Enter a number\"))\n",
    "i = 10\n",
    "while(i<n):\n",
    "    i = i+1\n",
    "    print(n,'*', i = 'n*i')\n",
    "    \n",
    "             "
   ]
  },
  {
   "cell_type": "code",
   "execution_count": 17,
   "id": "375ac343-ce83-45a8-8e36-3d4992aae32d",
   "metadata": {},
   "outputs": [
    {
     "name": "stdin",
     "output_type": "stream",
     "text": [
      "Enter a number 5\n"
     ]
    },
    {
     "name": "stdout",
     "output_type": "stream",
     "text": [
      "0\n",
      "0\n",
      "0\n",
      "0\n",
      "0\n"
     ]
    }
   ],
   "source": [
    "n = int(input(\"Enter a number\"))\n",
    "fact = 1\n",
    "for i in range(n):\n",
    "    fact = fact*i\n",
    "    print(fact)"
   ]
  },
  {
   "cell_type": "code",
   "execution_count": 18,
   "id": "cf11d14f-84c5-4b39-886b-d351c32886ea",
   "metadata": {},
   "outputs": [
    {
     "name": "stdout",
     "output_type": "stream",
     "text": [
      "*\n",
      "**\n",
      "***\n",
      "****\n",
      "*****\n"
     ]
    }
   ],
   "source": [
    "for i in range(1,6):\n",
    "    for j in range(1,i+1):\n",
    "        print('*',end=\"\")\n",
    "    print('')"
   ]
  },
  {
   "cell_type": "code",
   "execution_count": 20,
   "id": "7f91d571-645b-4024-8d67-589b27f26e55",
   "metadata": {},
   "outputs": [
    {
     "name": "stdout",
     "output_type": "stream",
     "text": [
      "*****\n",
      "****\n",
      "***\n",
      "**\n",
      "*\n"
     ]
    }
   ],
   "source": [
    "for i in range(5,0,-1):\n",
    "    for j in range(1,i+1):\n",
    "        print('*',end=\"\")\n",
    "    print()"
   ]
  },
  {
   "cell_type": "code",
   "execution_count": 21,
   "id": "f4ae0246-2158-4c96-98f9-5c52ce21934a",
   "metadata": {},
   "outputs": [
    {
     "name": "stdin",
     "output_type": "stream",
     "text": [
      "Enter a number 5\n"
     ]
    },
    {
     "name": "stdout",
     "output_type": "stream",
     "text": [
      "1\n",
      "2\n",
      "6\n",
      "24\n",
      "120\n"
     ]
    }
   ],
   "source": [
    "n = int(input(\"Enter a number\"))\n",
    "factorial = 1\n",
    "if n<0:\n",
    "    print(\"Factorial is not defined for negative numbers\")\n",
    "else:\n",
    "    for i in range(1,n+1):\n",
    "        factorial = factorial *i\n",
    "        print(factorial)"
   ]
  },
  {
   "cell_type": "code",
   "execution_count": 23,
   "id": "5de1db5e-ada6-4e42-9628-207dea2308ff",
   "metadata": {},
   "outputs": [
    {
     "name": "stdin",
     "output_type": "stream",
     "text": [
      "Enter a number 5\n"
     ]
    },
    {
     "name": "stdout",
     "output_type": "stream",
     "text": [
      "5 x 1 = 5\n",
      "5 x 2 = 10\n",
      "5 x 3 = 15\n",
      "5 x 4 = 20\n",
      "5 x 5 = 25\n"
     ]
    }
   ],
   "source": [
    "n = int(input(\"Enter a number\"))\n",
    "for i in range(1,n+1):\n",
    "    print(n, \"x\",i,\"=\",n*i)"
   ]
  },
  {
   "cell_type": "code",
   "execution_count": 25,
   "id": "5b1d915f-7591-44e5-a059-725c3bce5a70",
   "metadata": {},
   "outputs": [
    {
     "name": "stdin",
     "output_type": "stream",
     "text": [
      "Enter a number 123\n"
     ]
    },
    {
     "name": "stdout",
     "output_type": "stream",
     "text": [
      "3\n",
      "5\n",
      "6\n"
     ]
    }
   ],
   "source": [
    "n = int(input(\"Enter a number\"))\n",
    "original = n\n",
    "sum = 0\n",
    "while(n>0):\n",
    "    last_digit = n%10\n",
    "    sum = sum + last_digit\n",
    "    n = n//10\n",
    "    print(sum)"
   ]
  },
  {
   "cell_type": "code",
   "execution_count": 3,
   "id": "fd13f004-7550-429b-baa6-ac16a7c344e5",
   "metadata": {},
   "outputs": [
    {
     "name": "stdin",
     "output_type": "stream",
     "text": [
      "Enter a string:  create\n"
     ]
    },
    {
     "name": "stdout",
     "output_type": "stream",
     "text": [
      "Number of vowels: 3\n"
     ]
    }
   ],
   "source": [
    "text = input(\"Enter a string: \")\n",
    "\n",
    "vowels = \"aeiouAEIOU\"\n",
    "count = 0\n",
    "\n",
    "for char in text:\n",
    "    if char in vowels:\n",
    "        count += 1\n",
    "\n",
    "print(\"Number of vowels:\", count)\n"
   ]
  },
  {
   "cell_type": "code",
   "execution_count": 4,
   "id": "e8898d26-cca7-44b9-91de-dcb06cbbc89e",
   "metadata": {},
   "outputs": [
    {
     "name": "stdin",
     "output_type": "stream",
     "text": [
      "Enter the terms 10\n"
     ]
    },
    {
     "name": "stdout",
     "output_type": "stream",
     "text": [
      "Fibonacci\n",
      "0112358132134"
     ]
    }
   ],
   "source": [
    "n = int(input(\"Enter the terms\"))\n",
    "a,b = 0,1\n",
    "print(\"Fibonacci\")\n",
    "for i in range(n):\n",
    "    print(a,end =\"\")\n",
    "    a,b = b, a+b\n",
    "    "
   ]
  },
  {
   "cell_type": "code",
   "execution_count": 9,
   "id": "204de96f-061b-47d7-9997-aa6d2241c0e9",
   "metadata": {},
   "outputs": [
    {
     "name": "stdout",
     "output_type": "stream",
     "text": [
      "Hello World\n"
     ]
    }
   ],
   "source": [
    "#q1\n",
    "s = \"hello world\"\n",
    "d = s.title()\n",
    "print(d)"
   ]
  },
  {
   "cell_type": "code",
   "execution_count": 12,
   "id": "3af25cd5-66fc-426c-946b-b6b864dd9664",
   "metadata": {},
   "outputs": [
    {
     "name": "stdout",
     "output_type": "stream",
     "text": [
      "Python\n",
      "True\n"
     ]
    }
   ],
   "source": [
    "#q2\n",
    "e = \"Python\"\n",
    "f = e.title()\n",
    "print(f)\n",
    "g = e.isalpha()\n",
    "print(g)\n"
   ]
  },
  {
   "cell_type": "code",
   "execution_count": 13,
   "id": "b1eea309-e866-4d96-9de5-395b11b177d8",
   "metadata": {},
   "outputs": [
    {
     "name": "stdout",
     "output_type": "stream",
     "text": [
      "True\n"
     ]
    }
   ],
   "source": [
    "digits = '12345'\n",
    "h = digits.isdigit()\n",
    "print(h) #q3\n"
   ]
  },
  {
   "cell_type": "code",
   "execution_count": 14,
   "id": "5a276f2b-99a1-4b96-b3c8-bcff331c1dbc",
   "metadata": {},
   "outputs": [
    {
     "name": "stdout",
     "output_type": "stream",
     "text": [
      "4\n"
     ]
    }
   ],
   "source": [
    " sent = \"Python is easy to learn\"\n",
    "j = sent.count(\" \")\n",
    "print(j) #q4"
   ]
  },
  {
   "cell_type": "code",
   "execution_count": 15,
   "id": "081f1458-6af3-409e-8b28-33f26ef0cf8a",
   "metadata": {},
   "outputs": [
    {
     "name": "stdout",
     "output_type": "stream",
     "text": [
      "hello HELLO\n"
     ]
    }
   ],
   "source": [
    "k = \"HeLLo\" #q5\n",
    "l = k.lower()\n",
    "m = k.upper()\n",
    "print(l,m)"
   ]
  },
  {
   "cell_type": "code",
   "execution_count": 21,
   "id": "c279bf7b-57f3-4108-9ba9-67514258446f",
   "metadata": {},
   "outputs": [
    {
     "name": "stdout",
     "output_type": "stream",
     "text": [
      "True\n"
     ]
    }
   ],
   "source": [
    "s = \"var_name1\"\n",
    "g = s.isidentifier()\n",
    "print(g)"
   ]
  },
  {
   "cell_type": "code",
   "execution_count": 17,
   "id": "25709fb9-1126-4a15-ac29-eb04aa98fa07",
   "metadata": {},
   "outputs": [
    {
     "name": "stdout",
     "output_type": "stream",
     "text": [
      "False\n"
     ]
    }
   ],
   "source": [
    "a = \"Python 3.9!\"\n",
    "b = a.isalpha()\n",
    "print(b)"
   ]
  },
  {
   "cell_type": "code",
   "execution_count": 22,
   "id": "405e2363-2136-4121-8767-d8f35d0b399d",
   "metadata": {},
   "outputs": [
    {
     "name": "stdout",
     "output_type": "stream",
     "text": [
      "['Python', 'is', 'fun']\n"
     ]
    }
   ],
   "source": [
    "#q1\n",
    "sentence = \"Python is fun\"\n",
    "s = sentence.split(\" \")\n",
    "print(s)"
   ]
  },
  {
   "cell_type": "code",
   "execution_count": 24,
   "id": "55b3eae7-7e3e-410f-9f4a-f53de7fc02a9",
   "metadata": {},
   "outputs": [
    {
     "name": "stdout",
     "output_type": "stream",
     "text": [
      "5\n"
     ]
    }
   ],
   "source": [
    "str = \"This is a test sentence\"\n",
    "d = str.split(\" \")\n",
    "print(len(d))"
   ]
  },
  {
   "cell_type": "code",
   "execution_count": 28,
   "id": "dc577ec8-6da6-424e-97c5-ba4e1b2381fd",
   "metadata": {},
   "outputs": [
    {
     "name": "stdout",
     "output_type": "stream",
     "text": [
      "['data', 'science', 'is', 'cool']\n"
     ]
    },
    {
     "ename": "AttributeError",
     "evalue": "'list' object has no attribute 'join'",
     "output_type": "error",
     "traceback": [
      "\u001b[1;31m---------------------------------------------------------------------------\u001b[0m",
      "\u001b[1;31mAttributeError\u001b[0m                            Traceback (most recent call last)",
      "Cell \u001b[1;32mIn[28], line 5\u001b[0m\n\u001b[0;32m      3\u001b[0m \u001b[38;5;28mprint\u001b[39m(s1)\n\u001b[0;32m      4\u001b[0m s2 \u001b[38;5;241m=\u001b[39m \u001b[38;5;124m'\u001b[39m\u001b[38;5;124m-\u001b[39m\u001b[38;5;124m'\u001b[39m\n\u001b[1;32m----> 5\u001b[0m s3 \u001b[38;5;241m=\u001b[39m s1\u001b[38;5;241m.\u001b[39mjoin(s2)\n\u001b[0;32m      6\u001b[0m \u001b[38;5;28mprint\u001b[39m(s3)\n",
      "\u001b[1;31mAttributeError\u001b[0m: 'list' object has no attribute 'join'"
     ]
    }
   ],
   "source": [
    " s = \"data science is cool\"\n",
    "s1 = s.split(\" \")\n",
    "print(s1)\n",
    "s2 = '-'\n",
    "s3 = s1.join(s2)\n",
    "print(s3)"
   ]
  },
  {
   "cell_type": "code",
   "execution_count": 29,
   "id": "f5fefea8-bda6-4ae0-ab8c-d2d66b19c422",
   "metadata": {},
   "outputs": [
    {
     "name": "stdout",
     "output_type": "stream",
     "text": [
      "['apple,banana,cherry']\n"
     ]
    }
   ],
   "source": [
    " string = \"apple,banana,cherry\"\n",
    "f = string.split(\" \")\n",
    "print(f)"
   ]
  },
  {
   "cell_type": "code",
   "execution_count": 31,
   "id": "39c68340-2331-4a7f-a5c7-5fc53725077a",
   "metadata": {},
   "outputs": [
    {
     "name": "stdout",
     "output_type": "stream",
     "text": [
      "['Hello', 'world', 'from', 'Python']\n",
      "['Python', 'from', 'world', 'Hello']\n"
     ]
    }
   ],
   "source": [
    "s1 = \"Hello world from Python\"\n",
    "s2 = s1.split(\" \")\n",
    "print(s2)\n",
    "s3 = s2[::-1]\n",
    "print(s3)\n"
   ]
  },
  {
   "cell_type": "code",
   "execution_count": 34,
   "id": "18bcc7c0-408c-428f-9a1c-deb1ccf798e8",
   "metadata": {},
   "outputs": [
    {
     "name": "stdout",
     "output_type": "stream",
     "text": [
      "-\n"
     ]
    }
   ],
   "source": [
    "s1 = \"Aryan\"\n",
    "s2 = \"-\"\n",
    "s3 = s1.join(s2)\n",
    "print(s3)"
   ]
  },
  {
   "cell_type": "code",
   "execution_count": 35,
   "id": "090c6829-2cef-4fdc-a32f-f70deb65a44d",
   "metadata": {},
   "outputs": [
    {
     "name": "stdout",
     "output_type": "stream",
     "text": [
      "7\n"
     ]
    }
   ],
   "source": [
    "str = \"Hello, world!\"\n",
    "print(str.find(\"world\"))"
   ]
  },
  {
   "cell_type": "code",
   "execution_count": 36,
   "id": "d1a0bc46-65a1-4f5a-8a3e-b042c8f0ee67",
   "metadata": {},
   "outputs": [
    {
     "name": "stdout",
     "output_type": "stream",
     "text": [
      "True\n"
     ]
    }
   ],
   "source": [
    "str1 = \"Hello, Python!\"\n",
    "print(str1.startswith(\"Hello\"))"
   ]
  },
  {
   "cell_type": "code",
   "execution_count": 37,
   "id": "794d7625-6667-4826-a6f0-c23f11984b57",
   "metadata": {},
   "outputs": [
    {
     "name": "stdout",
     "output_type": "stream",
     "text": [
      " program\n"
     ]
    }
   ],
   "source": [
    "str3 = \"Python program\"\n",
    "print(str3.removeprefix('Python'))"
   ]
  },
  {
   "cell_type": "code",
   "execution_count": 40,
   "id": "0154c2aa-fa25-41d2-a9b2-0d3739bf8b14",
   "metadata": {},
   "outputs": [
    {
     "name": "stdout",
     "output_type": "stream",
     "text": [
      "5\n"
     ]
    }
   ],
   "source": [
    "str4 = 'bananas'\n",
    "print(str4.rfind('a',))"
   ]
  },
  {
   "cell_type": "code",
   "execution_count": 42,
   "id": "1c3e4a79-3e2e-4f2c-b963-79e61b3d2f81",
   "metadata": {},
   "outputs": [
    {
     "name": "stdout",
     "output_type": "stream",
     "text": [
      "True\n"
     ]
    }
   ],
   "source": [
    "str5 = '123abc'\n",
    "print(str5.startswith('123'))"
   ]
  },
  {
   "cell_type": "code",
   "execution_count": 44,
   "id": "8fec80ca-e874-4746-a4e8-b1f916fd5413",
   "metadata": {},
   "outputs": [
    {
     "name": "stdout",
     "output_type": "stream",
     "text": [
      "26\n"
     ]
    }
   ],
   "source": [
    "str6 = \"apple banana apple orange apple\"\n",
    "print(str6.rfind(\"apple\"))"
   ]
  },
  {
   "cell_type": "code",
   "execution_count": 45,
   "id": "bba78901-7b7f-430a-b607-a844f695db18",
   "metadata": {},
   "outputs": [
    {
     "name": "stdout",
     "output_type": "stream",
     "text": [
      "-1\n"
     ]
    }
   ],
   "source": [
    "str7 = \"hello world\"\n",
    "print(str7.rfind('Python'))"
   ]
  },
  {
   "cell_type": "code",
   "execution_count": 50,
   "id": "6901a74c-56df-45d3-988f-9c1c5fc85a90",
   "metadata": {},
   "outputs": [
    {
     "name": "stdout",
     "output_type": "stream",
     "text": [
      "13\n",
      "apple orange\n"
     ]
    }
   ],
   "source": [
    "str8 = \"apple banana apple orange\"\n",
    "str9 = str8.rfind('apple')\n",
    "print(str9)\n",
    "str10 = str8[13:]\n",
    "print(str10)\n",
    "\n"
   ]
  },
  {
   "cell_type": "code",
   "execution_count": 52,
   "id": "3e985b3f-3721-4a9a-bac7-957ba6161308",
   "metadata": {},
   "outputs": [
    {
     "name": "stdin",
     "output_type": "stream",
     "text": [
      "Enter the terms 5\n"
     ]
    },
    {
     "name": "stdout",
     "output_type": "stream",
     "text": [
      "Fibonacci series\n",
      "01123"
     ]
    }
   ],
   "source": [
    "n = int(input(\"Enter the terms\"))\n",
    "a,b = 0,1\n",
    "print(\"Fibonacci series\")\n",
    "for i in range(n):\n",
    "    print(a,end=\"\")\n",
    "    a,b = b,a+b"
   ]
  },
  {
   "cell_type": "code",
   "execution_count": 54,
   "id": "2c771c05-ce75-4165-a779-dc942a658f24",
   "metadata": {},
   "outputs": [
    {
     "name": "stdout",
     "output_type": "stream",
     "text": [
      "2\n",
      "3\n",
      "5\n",
      "7\n",
      "11\n",
      "13\n",
      "17\n",
      "19\n",
      "23\n",
      "29\n",
      "31\n",
      "37\n",
      "41\n",
      "43\n",
      "47\n",
      "53\n",
      "59\n",
      "61\n",
      "67\n",
      "71\n",
      "73\n",
      "79\n",
      "83\n",
      "89\n",
      "97\n"
     ]
    }
   ],
   "source": [
    "for nums in range(2,101):\n",
    "    is_prime = True\n",
    "    for i in range(2,nums):\n",
    "        if nums%i==0:\n",
    "            is_prime = False\n",
    "            break\n",
    "    if is_prime:\n",
    "        print(nums)\n",
    "    \n",
    "            "
   ]
  },
  {
   "cell_type": "code",
   "execution_count": 55,
   "id": "b98ca7cb-5270-4a95-bdcf-b87048e4530a",
   "metadata": {},
   "outputs": [
    {
     "name": "stdin",
     "output_type": "stream",
     "text": [
      "Enter a number 5\n"
     ]
    },
    {
     "name": "stdout",
     "output_type": "stream",
     "text": [
      "5 x 1 = 5\n",
      "5 x 2 = 10\n",
      "5 x 3 = 15\n",
      "5 x 4 = 20\n",
      "5 x 5 = 25\n",
      "5 x 6 = 30\n",
      "5 x 7 = 35\n",
      "5 x 8 = 40\n",
      "5 x 9 = 45\n",
      "5 x 10 = 50\n"
     ]
    }
   ],
   "source": [
    "n = int(input(\"Enter a number\"))\n",
    "for i in range(1,11):\n",
    "    print(n,'x',i,'=',n*i)\n",
    "    "
   ]
  },
  {
   "cell_type": "code",
   "execution_count": 57,
   "id": "d5c6ced6-a74b-4c5e-89c1-33d240412749",
   "metadata": {},
   "outputs": [
    {
     "name": "stdin",
     "output_type": "stream",
     "text": [
      "Enter a year 2012\n"
     ]
    },
    {
     "name": "stdout",
     "output_type": "stream",
     "text": [
      "Leap\n"
     ]
    }
   ],
   "source": [
    "year = int(input(\"Enter a year\"))\n",
    "if(year %4==0 and year%100!=0) or (year%400==0):\n",
    "    print(\"Leap\")\n",
    "else:\n",
    "    print(\"Non Leap\")\n",
    "          "
   ]
  },
  {
   "cell_type": "code",
   "execution_count": 58,
   "id": "10bf86de-d0b1-4509-9920-734052c83b7b",
   "metadata": {},
   "outputs": [
    {
     "name": "stdin",
     "output_type": "stream",
     "text": [
      "Enter a string aryan\n"
     ]
    },
    {
     "name": "stdout",
     "output_type": "stream",
     "text": [
      "2\n"
     ]
    }
   ],
   "source": [
    "string = input(\"Enter a string\")\n",
    "count = 0\n",
    "vowels = 'aeiouAEIOU'\n",
    "for char in string:\n",
    "    if char in vowels:\n",
    "        count = count+1\n",
    "print(count)"
   ]
  },
  {
   "cell_type": "code",
   "execution_count": 59,
   "id": "860fd3b5-63de-4002-b858-a77a2f53c130",
   "metadata": {},
   "outputs": [
    {
     "name": "stdin",
     "output_type": "stream",
     "text": [
      "Enter a number 6\n"
     ]
    },
    {
     "name": "stdout",
     "output_type": "stream",
     "text": [
      "1\n",
      "2\n",
      "6\n",
      "24\n",
      "120\n",
      "720\n"
     ]
    }
   ],
   "source": [
    "n = int(input(\"Enter a number\"))\n",
    "fact = 1\n",
    "if n<=1:\n",
    "    print(\"Factorial not for negative numbers\")\n",
    "else:\n",
    "    for i in range(1,n+1):\n",
    "        fact = fact*i\n",
    "        print(fact)\n",
    "        "
   ]
  },
  {
   "cell_type": "code",
   "execution_count": 60,
   "id": "946a7d01-e049-468a-a072-14b0d5ec36df",
   "metadata": {},
   "outputs": [
    {
     "name": "stdin",
     "output_type": "stream",
     "text": [
      "Enter a password a1234\n",
      "Enter confirmed password a12345\n"
     ]
    },
    {
     "name": "stdout",
     "output_type": "stream",
     "text": [
      "Do not match\n"
     ]
    }
   ],
   "source": [
    "# python project 1 password reset\n",
    "pwd1 = input(\"Enter a password\")\n",
    "pwd2 = input(\"Enter confirmed password\")\n",
    "if pwd1 == pwd2:\n",
    "    print(\"Password changed\")\n",
    "elif pwd1.casefold() == pwd2.casefold():\n",
    "    print(\"Match password\")\n",
    "else:\n",
    "    print(\"Do not match\")"
   ]
  },
  {
   "cell_type": "code",
   "execution_count": 61,
   "id": "d31a63f0-6900-4318-9a32-94424d306cae",
   "metadata": {},
   "outputs": [
    {
     "name": "stdin",
     "output_type": "stream",
     "text": [
      "Enter credit card number 1234 4567 7896 1221\n"
     ]
    },
    {
     "ename": "ValueError",
     "evalue": "invalid literal for int() with base 10: '1234 4567 7896 1221'",
     "output_type": "error",
     "traceback": [
      "\u001b[1;31m---------------------------------------------------------------------------\u001b[0m",
      "\u001b[1;31mValueError\u001b[0m                                Traceback (most recent call last)",
      "Cell \u001b[1;32mIn[61], line 2\u001b[0m\n\u001b[0;32m      1\u001b[0m \u001b[38;5;66;03m#project 2 credit card number\u001b[39;00m\n\u001b[1;32m----> 2\u001b[0m credit_card_no \u001b[38;5;241m=\u001b[39m \u001b[38;5;28mint\u001b[39m(\u001b[38;5;28minput\u001b[39m(\u001b[38;5;124m\"\u001b[39m\u001b[38;5;124mEnter credit card number\u001b[39m\u001b[38;5;124m\"\u001b[39m))\n\u001b[0;32m      3\u001b[0m last_digit \u001b[38;5;241m=\u001b[39m credit_card_no[\u001b[38;5;241m15\u001b[39m:]\n\u001b[0;32m      4\u001b[0m four \u001b[38;5;241m=\u001b[39m \u001b[38;5;124m'\u001b[39m\u001b[38;5;124mX\u001b[39m\u001b[38;5;124m'\u001b[39m\u001b[38;5;241m*\u001b[39m\u001b[38;5;241m4\u001b[39m\n",
      "\u001b[1;31mValueError\u001b[0m: invalid literal for int() with base 10: '1234 4567 7896 1221'"
     ]
    }
   ],
   "source": [
    "#project 2 credit card number\n",
    "credit_card_no = int(input(\"Enter credit card number\"))\n",
    "last_digit = credit_card_no[15:]\n",
    "four = 'X'*4\n",
    "display_no = four*3 + last_digit\n",
    "print(display_no)\n"
   ]
  },
  {
   "cell_type": "code",
   "execution_count": 63,
   "id": "781dd47e-ceae-4cb7-9654-84ad828f4a6e",
   "metadata": {},
   "outputs": [
    {
     "name": "stdout",
     "output_type": "stream",
     "text": [
      "Burger------------------------------------------------------------------------70\n",
      "Pizza---------------------------------------------------------------------------------------------90\n"
     ]
    }
   ],
   "source": [
    "item1 = \"Burger\"\n",
    "price1 = '70'\n",
    "dash = 80 - len(item1)-len(price1)\n",
    "print(item1 + ('-'*dash)+ price1)\n",
    "item2 = \"Pizza\"\n",
    "price2 = '90'\n",
    "dash = 100 - len(item2)-len(price2)\n",
    "print(item2 + ('-'*dash)+ price2)"
   ]
  },
  {
   "cell_type": "code",
   "execution_count": 68,
   "id": "4fe88d31-4656-4185-b5c9-121121e5a30c",
   "metadata": {},
   "outputs": [
    {
     "name": "stdout",
     "output_type": "stream",
     "text": [
      "1\n",
      "22\n",
      "333\n",
      "4444\n",
      "55555\n"
     ]
    }
   ],
   "source": [
    "for i in range(1,6):\n",
    "    for j in range(i):\n",
    "        print(i,end=\"\")\n",
    "    print()\n",
    "    "
   ]
  },
  {
   "cell_type": "code",
   "execution_count": 75,
   "id": "8bbfc116-a61f-4f5d-aa6b-77e739e43087",
   "metadata": {},
   "outputs": [
    {
     "name": "stdout",
     "output_type": "stream",
     "text": [
      "    *\n",
      "   **\n",
      "  ***\n",
      " ****\n",
      "*****\n"
     ]
    }
   ],
   "source": [
    "for i in range(1,6):\n",
    "    for j in range(5,i,-1):\n",
    "        print(\" \",end=\"\")\n",
    "    for k in range(1,i+1):\n",
    "        print('*',end=\"\")\n",
    "    print()"
   ]
  },
  {
   "cell_type": "code",
   "execution_count": 79,
   "id": "b6e2ae0f-fb84-4277-97b1-6f633b55d0c7",
   "metadata": {},
   "outputs": [
    {
     "name": "stdout",
     "output_type": "stream",
     "text": [
      "1\n",
      "121\n",
      "12321\n",
      "1234321\n",
      "123454321\n"
     ]
    }
   ],
   "source": [
    "for i in range(1,6):\n",
    "    for j in range(1,i+1):\n",
    "        print(j,end=\"\")\n",
    "    for k in range(i-1,0,-1):\n",
    "        print(k,end=\"\")\n",
    "    print()\n",
    "    "
   ]
  },
  {
   "cell_type": "code",
   "execution_count": 81,
   "id": "1ed0fe62-fbad-4782-b66d-2e4c9b828507",
   "metadata": {},
   "outputs": [
    {
     "name": "stdout",
     "output_type": "stream",
     "text": [
      "1\n",
      "21\n",
      "321\n",
      "4321\n",
      "54321\n"
     ]
    }
   ],
   "source": [
    "for i in range(1,6):\n",
    "    for j in range(i,0,-1):\n",
    "        print(j,end=\"\")\n",
    "    print()"
   ]
  },
  {
   "cell_type": "code",
   "execution_count": 82,
   "id": "a2d71941-ba5c-4182-9ccd-c53c330e1673",
   "metadata": {},
   "outputs": [
    {
     "data": {
      "text/plain": [
       "67"
      ]
     },
     "execution_count": 82,
     "metadata": {},
     "output_type": "execute_result"
    }
   ],
   "source": [
    "ord('C')\n"
   ]
  },
  {
   "cell_type": "code",
   "execution_count": 83,
   "id": "a9a99881-2b14-4aaa-90b3-bd4c4c6f9f1d",
   "metadata": {},
   "outputs": [
    {
     "data": {
      "text/plain": [
       "'E'"
      ]
     },
     "execution_count": 83,
     "metadata": {},
     "output_type": "execute_result"
    }
   ],
   "source": [
    "chr(69)"
   ]
  },
  {
   "cell_type": "code",
   "execution_count": 85,
   "id": "22d80314-dd4f-4c8d-a164-6c6f12527f95",
   "metadata": {},
   "outputs": [
    {
     "name": "stdout",
     "output_type": "stream",
     "text": [
      "0b1111011\n"
     ]
    }
   ],
   "source": [
    "x = int('123')\n",
    "y = bin(x)\n",
    "print(y)"
   ]
  },
  {
   "cell_type": "code",
   "execution_count": 86,
   "id": "59ff507a-41fe-44e7-81e8-4292a053baf6",
   "metadata": {},
   "outputs": [
    {
     "name": "stdout",
     "output_type": "stream",
     "text": [
      "0o531\n"
     ]
    }
   ],
   "source": [
    "z = 345\n",
    "v = oct(z)\n",
    "print(v)"
   ]
  },
  {
   "cell_type": "code",
   "execution_count": 87,
   "id": "0132f862-d9b5-4642-9e2d-0c7595bede6d",
   "metadata": {},
   "outputs": [
    {
     "name": "stdout",
     "output_type": "stream",
     "text": [
      "0x1c8\n"
     ]
    }
   ],
   "source": [
    "e = 456\n",
    "g = hex(e)\n",
    "print(g)"
   ]
  },
  {
   "cell_type": "code",
   "execution_count": 89,
   "id": "db2dfbb5-46af-4492-b4bc-d71cc7d8e009",
   "metadata": {},
   "outputs": [
    {
     "name": "stdout",
     "output_type": "stream",
     "text": [
      "कखग\n"
     ]
    }
   ],
   "source": [
    "s = '\\u0915\\u0916\\u0917'\n",
    "print(s)"
   ]
  },
  {
   "cell_type": "code",
   "execution_count": 93,
   "id": "08807f59-581c-4a72-b09d-d723e5b00ade",
   "metadata": {},
   "outputs": [
    {
     "name": "stdout",
     "output_type": "stream",
     "text": [
      "Aryan \n",
      " Kumar\n"
     ]
    }
   ],
   "source": [
    "print('Aryan \\n Kumar')\n"
   ]
  },
  {
   "cell_type": "code",
   "execution_count": 94,
   "id": "d09574cd-29b8-4799-b702-9bea1673f9a3",
   "metadata": {},
   "outputs": [
    {
     "name": "stdout",
     "output_type": "stream",
     "text": [
      "Ashish \n",
      " Prasad\n"
     ]
    }
   ],
   "source": [
    "print('Ashish \\n Prasad')\n",
    "      "
   ]
  },
  {
   "cell_type": "code",
   "execution_count": 95,
   "id": "0a6239f6-4042-4295-9bc3-fe0d3ce465e4",
   "metadata": {},
   "outputs": [
    {
     "name": "stdout",
     "output_type": "stream",
     "text": [
      " Kumar\n"
     ]
    }
   ],
   "source": [
    "print('Aryan \\r Kumar')"
   ]
  },
  {
   "cell_type": "code",
   "execution_count": 96,
   "id": "28ca5d79-a26a-4b21-8161-ac45c1fc6a9f",
   "metadata": {},
   "outputs": [
    {
     "name": "stdout",
     "output_type": "stream",
     "text": [
      "Hello \t Aryan\n"
     ]
    }
   ],
   "source": [
    "print('Hello \\t Aryan')"
   ]
  },
  {
   "cell_type": "code",
   "execution_count": 98,
   "id": "2e129318-c5ad-42dc-b29e-665e098b490c",
   "metadata": {},
   "outputs": [
    {
     "name": "stdout",
     "output_type": "stream",
     "text": [
      "Hello \f",
      " Aryan\n"
     ]
    }
   ],
   "source": [
    "print('Hello \\f Aryan')"
   ]
  },
  {
   "cell_type": "code",
   "execution_count": 99,
   "id": "47be9e73-236c-4021-b03f-ce404761a02a",
   "metadata": {},
   "outputs": [
    {
     "name": "stdout",
     "output_type": "stream",
     "text": [
      "Mamta \u000b",
      " Kumar\n"
     ]
    }
   ],
   "source": [
    "print('Mamta \\v Kumar')\n"
   ]
  },
  {
   "cell_type": "code",
   "execution_count": 100,
   "id": "e525264d-94ed-46b0-9b51-c18a367f2669",
   "metadata": {},
   "outputs": [
    {
     "name": "stdout",
     "output_type": "stream",
     "text": [
      "This \n",
      " is a new ball\n"
     ]
    }
   ],
   "source": [
    "print('This \\n is a new ball')"
   ]
  },
  {
   "cell_type": "code",
   "execution_count": 101,
   "id": "9a91e4f4-9a42-4407-98dc-e770556f2b5e",
   "metadata": {},
   "outputs": [
    {
     "name": "stdout",
     "output_type": "stream",
     "text": [
      " is a new ball\n"
     ]
    }
   ],
   "source": [
    "print('This \\r is a new ball')"
   ]
  },
  {
   "cell_type": "code",
   "execution_count": 102,
   "id": "e5d2e397-bafe-4bb3-a43f-09f35805a8c8",
   "metadata": {},
   "outputs": [
    {
     "name": "stdout",
     "output_type": "stream",
     "text": [
      "This \t is a new ball\n"
     ]
    }
   ],
   "source": [
    "print('This \\t is a new ball')"
   ]
  },
  {
   "cell_type": "code",
   "execution_count": 103,
   "id": "8e3a4cef-c6e7-4cdc-89dc-f1a714579177",
   "metadata": {},
   "outputs": [
    {
     "name": "stdout",
     "output_type": "stream",
     "text": [
      "This is a new ball\n"
     ]
    }
   ],
   "source": [
    "print('This \\b is a new ball')"
   ]
  },
  {
   "cell_type": "code",
   "execution_count": 104,
   "id": "84c6db5c-212e-48e6-a6c9-d23fef74dadf",
   "metadata": {},
   "outputs": [
    {
     "name": "stdout",
     "output_type": "stream",
     "text": [
      "Aryan\n"
     ]
    }
   ],
   "source": [
    "print('Aryan \\b')"
   ]
  },
  {
   "cell_type": "code",
   "execution_count": 105,
   "id": "2cc30782-e826-40ae-91b6-3fb3071be115",
   "metadata": {},
   "outputs": [
    {
     "name": "stdout",
     "output_type": "stream",
     "text": [
      "Hello \f",
      " Gunner\n"
     ]
    }
   ],
   "source": [
    "print('Hello \\f Gunner')\n",
    "      "
   ]
  },
  {
   "cell_type": "code",
   "execution_count": 106,
   "id": "366d39a6-f7dd-4f2b-944b-54b8fbd16ae8",
   "metadata": {},
   "outputs": [
    {
     "name": "stdout",
     "output_type": "stream",
     "text": [
      "AryanKumar\n"
     ]
    }
   ],
   "source": [
    "print('Aryan\\\n",
    "Kumar')"
   ]
  },
  {
   "cell_type": "code",
   "execution_count": 107,
   "id": "ad93eadb-a34a-495c-9e5e-7a84588ae633",
   "metadata": {},
   "outputs": [
    {
     "name": "stdout",
     "output_type": "stream",
     "text": [
      "Kumar's\n"
     ]
    }
   ],
   "source": [
    "print('Kumar\\'s')"
   ]
  },
  {
   "cell_type": "code",
   "execution_count": 108,
   "id": "e38412ac-c045-4c19-8d9b-6255f6cdce8e",
   "metadata": {},
   "outputs": [
    {
     "name": "stdout",
     "output_type": "stream",
     "text": [
      "Kumar\"s\n"
     ]
    }
   ],
   "source": [
    "print('Kumar\\\"s')"
   ]
  },
  {
   "cell_type": "code",
   "execution_count": 109,
   "id": "b92d491d-469a-4fa0-a316-5e8b05c38d67",
   "metadata": {},
   "outputs": [
    {
     "name": "stdout",
     "output_type": "stream",
     "text": [
      "A\n"
     ]
    }
   ],
   "source": [
    "print('\\x41')"
   ]
  },
  {
   "cell_type": "code",
   "execution_count": 111,
   "id": "a9154b27-bcf9-4baa-a3ab-0b0a463b8d4c",
   "metadata": {},
   "outputs": [
    {
     "name": "stdout",
     "output_type": "stream",
     "text": [
      "A\n"
     ]
    }
   ],
   "source": [
    "print('\\101')"
   ]
  },
  {
   "cell_type": "code",
   "execution_count": 112,
   "id": "c84d5415-2c74-4832-bb49-53b8307b8c32",
   "metadata": {},
   "outputs": [
    {
     "name": "stdout",
     "output_type": "stream",
     "text": [
      "B\n"
     ]
    }
   ],
   "source": [
    "print('\\x42')"
   ]
  },
  {
   "cell_type": "code",
   "execution_count": 113,
   "id": "e067124a-a18a-43fa-8c82-c9ab10acc996",
   "metadata": {},
   "outputs": [
    {
     "name": "stdout",
     "output_type": "stream",
     "text": [
      "B\n"
     ]
    }
   ],
   "source": [
    "print('\\u0042')"
   ]
  },
  {
   "cell_type": "code",
   "execution_count": 114,
   "id": "e78db1e1-5ac2-4527-bbe6-f99c175852db",
   "metadata": {},
   "outputs": [
    {
     "name": "stdout",
     "output_type": "stream",
     "text": [
      "B\n"
     ]
    }
   ],
   "source": [
    "print('\\U00000042')"
   ]
  },
  {
   "cell_type": "code",
   "execution_count": 123,
   "id": "293824cf-7b5e-46a4-b6fb-22ae54bb7557",
   "metadata": {},
   "outputs": [
    {
     "name": "stdout",
     "output_type": "stream",
     "text": [
      "₅\n"
     ]
    }
   ],
   "source": [
    "print('\\N{subscript five}')"
   ]
  },
  {
   "cell_type": "code",
   "execution_count": 125,
   "id": "98ad0304-331d-4bec-b10b-4a347bcf5204",
   "metadata": {},
   "outputs": [
    {
     "name": "stdout",
     "output_type": "stream",
     "text": [
      "Aryan-13-14\n"
     ]
    }
   ],
   "source": [
    "print('Aryan',13,14,sep = \"-\")"
   ]
  },
  {
   "cell_type": "code",
   "execution_count": 126,
   "id": "70989529-487c-4540-a6e8-ea53aee6a7e5",
   "metadata": {},
   "outputs": [
    {
     "name": "stdout",
     "output_type": "stream",
     "text": [
      "Hello \t World\n"
     ]
    }
   ],
   "source": [
    "print('Hello \\t World')"
   ]
  },
  {
   "cell_type": "code",
   "execution_count": 133,
   "id": "65521a8c-6eef-480a-83ac-44d4145df9a2",
   "metadata": {},
   "outputs": [
    {
     "name": "stdout",
     "output_type": "stream",
     "text": [
      " 13\n"
     ]
    }
   ],
   "source": [
    "a = 13\n",
    "print('% i'%(a) )"
   ]
  },
  {
   "cell_type": "code",
   "execution_count": 139,
   "id": "52a28a8d-528e-48be-9b98-e51c92482798",
   "metadata": {},
   "outputs": [
    {
     "name": "stdout",
     "output_type": "stream",
     "text": [
      " 12.5000000000000000000000000000000\n"
     ]
    }
   ],
   "source": [
    "b = 12.5\n",
    "print('% 2.31f' %(b))"
   ]
  },
  {
   "cell_type": "code",
   "execution_count": 137,
   "id": "d8f13c74-95dd-4a60-8fc5-51a637ff3bc7",
   "metadata": {},
   "outputs": [
    {
     "name": "stdout",
     "output_type": "stream",
     "text": [
      "Aryan \n"
     ]
    }
   ],
   "source": [
    "c = 'Aryan'\n",
    "print('%s ' %(c))"
   ]
  },
  {
   "cell_type": "code",
   "execution_count": 140,
   "id": "6800cff3-4abc-491b-8643-4366f96fe6d7",
   "metadata": {},
   "outputs": [
    {
     "name": "stdout",
     "output_type": "stream",
     "text": [
      "happy coding--coffee is life--okay--"
     ]
    }
   ],
   "source": [
    "print('happy coding', end ='--')\n",
    "\n",
    "print('coffee is life', end ='--')\n",
    "\n",
    "print('okay', end ='--')\n",
    "\n",
    "\n",
    "\n",
    "\n",
    "\n"
   ]
  },
  {
   "cell_type": "code",
   "execution_count": 142,
   "id": "da79fb6c-1c40-4171-be02-f9efd57309f7",
   "metadata": {},
   "outputs": [
    {
     "ename": "SyntaxError",
     "evalue": "invalid character '‘' (U+2018) (2877244619.py, line 3)",
     "output_type": "error",
     "traceback": [
      "\u001b[1;36m  Cell \u001b[1;32mIn[142], line 3\u001b[1;36m\u001b[0m\n\u001b[1;33m    ‘{0}'.format([4.56])\u001b[0m\n\u001b[1;37m    ^\u001b[0m\n\u001b[1;31mSyntaxError\u001b[0m\u001b[1;31m:\u001b[0m invalid character '‘' (U+2018)\n"
     ]
    }
   ],
   "source": [
    "'{0}'.format(4.56)\n",
    "\n",
    "‘{0}'.format([4.56])"
   ]
  },
  {
   "cell_type": "code",
   "execution_count": 143,
   "id": "202cc1c7-3bc6-482c-8a90-fbdecb85baa1",
   "metadata": {},
   "outputs": [
    {
     "ename": "SyntaxError",
     "evalue": "unterminated string literal (detected at line 1) (3867339816.py, line 1)",
     "output_type": "error",
     "traceback": [
      "\u001b[1;36m  Cell \u001b[1;32mIn[143], line 1\u001b[1;36m\u001b[0m\n\u001b[1;33m    {a}{b}{a}'.format(a='hello', b= 'there')\u001b[0m\n\u001b[1;37m                                          ^\u001b[0m\n\u001b[1;31mSyntaxError\u001b[0m\u001b[1;31m:\u001b[0m unterminated string literal (detected at line 1)\n"
     ]
    }
   ],
   "source": [
    "{a}{b}{a}'.format(a='hello', b= 'there')\n"
   ]
  },
  {
   "cell_type": "code",
   "execution_count": 148,
   "id": "87c15edd-6fe1-41c0-82d3-62966ea85bb0",
   "metadata": {},
   "outputs": [
    {
     "name": "stdout",
     "output_type": "stream",
     "text": [
      "Aliceis 30 years old.\n"
     ]
    }
   ],
   "source": [
    "name = 'Alice'\n",
    "age = 30\n",
    "print(f\"{name}is {age} years old.\")"
   ]
  },
  {
   "cell_type": "code",
   "execution_count": 149,
   "id": "78acb76b-b808-443c-99f8-bf4289466951",
   "metadata": {},
   "outputs": [
    {
     "name": "stdout",
     "output_type": "stream",
     "text": [
      "The sum of 5 and 10 is 15\n"
     ]
    }
   ],
   "source": [
    "x = 5\n",
    "y = 10\n",
    "print(f\"The sum of {x} and {y} is {x + y}\")"
   ]
  },
  {
   "cell_type": "code",
   "execution_count": 150,
   "id": "6b1aee59-8d3e-49d7-8294-5ddfb4fe8b07",
   "metadata": {},
   "outputs": [
    {
     "name": "stdout",
     "output_type": "stream",
     "text": [
      "Student Liam scored 92% on the test.\n"
     ]
    }
   ],
   "source": [
    "name = \"Liam\"\n",
    "score = 92\n",
    "print(f\"Student {name} scored {score}% on the test.\")"
   ]
  },
  {
   "cell_type": "code",
   "execution_count": 152,
   "id": "99cfd16d-902b-47fd-9811-cbcd80810923",
   "metadata": {},
   "outputs": [
    {
     "name": "stdout",
     "output_type": "stream",
     "text": [
      "Aryan is 24 years old. and has secured 9 in his university exams\n"
     ]
    }
   ],
   "source": [
    "name = \"Aryan\"\n",
    "age = 24\n",
    "cgpa = 9\n",
    "print(f\"{name} is {age} years old. and has secured {cgpa} in his university exams\" )"
   ]
  },
  {
   "cell_type": "code",
   "execution_count": 161,
   "id": "7a476c9f-b065-4c86-9edc-e06b4b0fda0e",
   "metadata": {},
   "outputs": [
    {
     "name": "stdout",
     "output_type": "stream",
     "text": [
      "Gopal \"s Prasad\n"
     ]
    }
   ],
   "source": [
    "print('Gopal \\\"s Prasad')"
   ]
  },
  {
   "cell_type": "code",
   "execution_count": 162,
   "id": "9076a72d-d399-4def-b0d7-3d9d0ea6d14b",
   "metadata": {},
   "outputs": [
    {
     "name": "stdin",
     "output_type": "stream",
     "text": [
      "Enter your name Aryan\n",
      "Enter your age 24\n"
     ]
    },
    {
     "name": "stdout",
     "output_type": "stream",
     "text": [
      "Hello, Aryan! You are 24 years old.\n"
     ]
    }
   ],
   "source": [
    "name = input(\"Enter your name\")\n",
    "age = int(input(\"Enter your age\"))\n",
    "print(f\"Hello, {name}! You are {age} years old.\")"
   ]
  },
  {
   "cell_type": "code",
   "execution_count": null,
   "id": "032c295f-56ac-4e8d-8fe7-343e2a732419",
   "metadata": {},
   "outputs": [],
   "source": []
  }
 ],
 "metadata": {
  "kernelspec": {
   "display_name": "Python [conda env:base] *",
   "language": "python",
   "name": "conda-base-py"
  },
  "language_info": {
   "codemirror_mode": {
    "name": "ipython",
    "version": 3
   },
   "file_extension": ".py",
   "mimetype": "text/x-python",
   "name": "python",
   "nbconvert_exporter": "python",
   "pygments_lexer": "ipython3",
   "version": "3.12.7"
  }
 },
 "nbformat": 4,
 "nbformat_minor": 5
}
