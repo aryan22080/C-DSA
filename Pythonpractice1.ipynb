{
 "cells": [
  {
   "cell_type": "code",
   "execution_count": 42,
   "id": "6d56e89d-44c7-4b36-be97-4da3182d1333",
   "metadata": {},
   "outputs": [
    {
     "name": "stdout",
     "output_type": "stream",
     "text": [
      "hello\n"
     ]
    }
   ],
   "source": [
    "print(\"hello\")"
   ]
  },
  {
   "cell_type": "code",
   "execution_count": 43,
   "id": "f46742a7-9181-4aeb-86e2-937099031e64",
   "metadata": {},
   "outputs": [],
   "source": [
    "#Q1\n",
    "age = 26"
   ]
  },
  {
   "cell_type": "code",
   "execution_count": 44,
   "id": "b69042ba-e382-4102-bf8c-713830411b49",
   "metadata": {},
   "outputs": [],
   "source": [
    "#q2\n",
    "height = 5.9"
   ]
  },
  {
   "cell_type": "code",
   "execution_count": 45,
   "id": "075afe9e-cfec-49e8-98a3-3feae9fa190a",
   "metadata": {},
   "outputs": [],
   "source": [
    "#q3\n",
    "language = 'Python'"
   ]
  },
  {
   "cell_type": "code",
   "execution_count": 46,
   "id": "8f54dd08-4ed1-487d-a2ff-c9da9c08ebe6",
   "metadata": {},
   "outputs": [],
   "source": [
    "is_active = True  # q4"
   ]
  },
  {
   "cell_type": "code",
   "execution_count": 70,
   "id": "eb7b5af3-7793-437b-832f-891c84c70808",
   "metadata": {},
   "outputs": [
    {
     "name": "stdout",
     "output_type": "stream",
     "text": [
      "30\n"
     ]
    }
   ],
   "source": [
    "x = 10\n",
    "y = 20\n",
    "print(x+y)  #q5"
   ]
  },
  {
   "cell_type": "code",
   "execution_count": 48,
   "id": "b2707687-10a4-4d63-a629-f22f73d09ec9",
   "metadata": {},
   "outputs": [
    {
     "name": "stdout",
     "output_type": "stream",
     "text": [
      "Hello\n"
     ]
    }
   ],
   "source": [
    "x = 5\n",
    "x = \"Hello\"\n",
    "print(x) #Q6"
   ]
  },
  {
   "cell_type": "code",
   "execution_count": 71,
   "id": "5f98b173-8bcd-40a7-a2ea-6fc01cbcf00e",
   "metadata": {},
   "outputs": [
    {
     "name": "stdout",
     "output_type": "stream",
     "text": [
      "im\n"
     ]
    }
   ],
   "source": [
    "# q7 \n",
    "message = \"Hi\"\n",
    "message= 'im'\n",
    "print(message)"
   ]
  },
  {
   "cell_type": "code",
   "execution_count": 50,
   "id": "a1a23b27-4b12-423b-99a9-2c8056c842bd",
   "metadata": {},
   "outputs": [
    {
     "name": "stdout",
     "output_type": "stream",
     "text": [
      "Aryan 26\n"
     ]
    }
   ],
   "source": [
    "#q8 \n",
    "name = \"Aryan\"\n",
    "age = 26\n",
    "print(name,age)"
   ]
  },
  {
   "cell_type": "code",
   "execution_count": 77,
   "id": "a7048bfb-23fe-4eb1-9e24-d7d1c0f6c310",
   "metadata": {},
   "outputs": [
    {
     "name": "stdout",
     "output_type": "stream",
     "text": [
      "Hello World\n"
     ]
    }
   ],
   "source": [
    "s1 = \"Hello\"\n",
    "s2 = \"World\"\n",
    "greeting = s1+\" \"+s2\n",
    "print(greeting) #q9\n"
   ]
  },
  {
   "cell_type": "code",
   "execution_count": 78,
   "id": "66705db9-b0cf-42f9-8f69-bc97e9f94e50",
   "metadata": {},
   "outputs": [
    {
     "name": "stdout",
     "output_type": "stream",
     "text": [
      "Aryan     Kumar\n"
     ]
    }
   ],
   "source": [
    "first_name = \"Aryan\"\n",
    "last_name = \"Kumar\"\n",
    "fullname = first_name + \"     \" + last_name\n",
    "print(fullname) #q10"
   ]
  },
  {
   "cell_type": "code",
   "execution_count": 84,
   "id": "1fbfeadb-be44-4ab7-b2c0-3de523c780f7",
   "metadata": {},
   "outputs": [
    {
     "name": "stdout",
     "output_type": "stream",
     "text": [
      "Age: 25\n"
     ]
    }
   ],
   "source": [
    "a = str(25)\n",
    "s = \"Age:\"\n",
    "result = s + \" \" +a\n",
    "print(result) #q11"
   ]
  },
  {
   "cell_type": "code",
   "execution_count": 54,
   "id": "c2c3c689-ca8e-485c-b133-6a14c61a94eb",
   "metadata": {},
   "outputs": [
    {
     "name": "stdout",
     "output_type": "stream",
     "text": [
      "Hello123\n"
     ]
    }
   ],
   "source": [
    "a = \"Hello\"\n",
    "b = 123\n",
    "print(a + str(b)) #q12"
   ]
  },
  {
   "cell_type": "code",
   "execution_count": 85,
   "id": "f10ede59-514e-42ec-9dc4-ecc071266117",
   "metadata": {},
   "outputs": [
    {
     "name": "stdout",
     "output_type": "stream",
     "text": [
      "Python is fun\n"
     ]
    }
   ],
   "source": [
    "s1 = \"Python\"\n",
    "s2 = \"is\"\n",
    "s3 = \"fun\"\n",
    "r1 = s1 + \" \" + s2 + \" \" + s3\n",
    "print(r1) #q14"
   ]
  },
  {
   "cell_type": "code",
   "execution_count": 56,
   "id": "326059e3-7ba3-4e53-bbbb-3dc96898b538",
   "metadata": {},
   "outputs": [
    {
     "name": "stdout",
     "output_type": "stream",
     "text": [
      "My name is Bob and I am 25 years old.\n"
     ]
    }
   ],
   "source": [
    "name = \"Bob\"\n",
    "age = str(25)\n",
    "print(\"My name is \" + name + \" and I am \" + age + \" years old.\")#q15\n"
   ]
  },
  {
   "cell_type": "code",
   "execution_count": 90,
   "id": "c2421908-4dba-4485-a026-183325a0be86",
   "metadata": {},
   "outputs": [
    {
     "name": "stdout",
     "output_type": "stream",
     "text": [
      "The price is  100 dollars\n"
     ]
    }
   ],
   "source": [
    "\n",
    "s1 = \"The price is \"\n",
    "s2 = \"dollars\"\n",
    "price = 100\n",
    "s3 = s1 +\" \"+ str(price)+\" \"+ s2\n",
    "print(s3) #q16"
   ]
  },
  {
   "cell_type": "code",
   "execution_count": 91,
   "id": "bedadbb9-1f81-42f8-af5b-a9bf0a9e0cfc",
   "metadata": {},
   "outputs": [],
   "source": [
    "a = str('123') #q17\n"
   ]
  },
  {
   "cell_type": "code",
   "execution_count": 92,
   "id": "f9a932de-d1be-43c0-99e5-fbd468a6da1a",
   "metadata": {},
   "outputs": [
    {
     "name": "stdout",
     "output_type": "stream",
     "text": [
      "<class 'str'>\n"
     ]
    }
   ],
   "source": [
    "b = str('3.14') #q18\n",
    "print(type(b))"
   ]
  },
  {
   "cell_type": "code",
   "execution_count": 94,
   "id": "a19c6ba5-0f67-455c-b945-e5b4e961588c",
   "metadata": {},
   "outputs": [
    {
     "name": "stdin",
     "output_type": "stream",
     "text": [
      "Enter a number 170\n"
     ]
    },
    {
     "name": "stdout",
     "output_type": "stream",
     "text": [
      "340\n"
     ]
    }
   ],
   "source": [
    "n = int(input(\"Enter a number\"))\n",
    "r = n*2\n",
    "print(r) #q19"
   ]
  },
  {
   "cell_type": "code",
   "execution_count": 95,
   "id": "7010334a-ce12-444e-88f8-51304b5f3b76",
   "metadata": {},
   "outputs": [
    {
     "name": "stdout",
     "output_type": "stream",
     "text": [
      "10.0\n",
      "<class 'float'>\n"
     ]
    }
   ],
   "source": [
    "c = float(10)\n",
    "#q20\n",
    "print(c)\n",
    "print(type(c))"
   ]
  },
  {
   "cell_type": "code",
   "execution_count": 63,
   "id": "038564dc-7766-4886-acfe-5904e6a0f480",
   "metadata": {},
   "outputs": [
    {
     "name": "stdout",
     "output_type": "stream",
     "text": [
      "10\n"
     ]
    }
   ],
   "source": [
    "d = int(10.5)\n",
    "print(d) #q21"
   ]
  },
  {
   "cell_type": "code",
   "execution_count": 97,
   "id": "46f29388-0ddc-447c-98b2-49757b781f88",
   "metadata": {},
   "outputs": [
    {
     "name": "stdout",
     "output_type": "stream",
     "text": [
      "True\n",
      "True\n",
      "<class 'bool'>\n"
     ]
    }
   ],
   "source": [
    "e = bool(\"True\")\n",
    "print(e) #q22\n",
    "a= \"True\"\n",
    "b= bool(a)\n",
    "print(b)\n",
    "print(type(b))"
   ]
  },
  {
   "cell_type": "code",
   "execution_count": 66,
   "id": "788e99c7-fed8-49c4-80f2-81f94b9575ca",
   "metadata": {},
   "outputs": [
    {
     "name": "stdin",
     "output_type": "stream",
     "text": [
      "Enter the first number 14\n",
      "Enter the second number 15\n"
     ]
    },
    {
     "name": "stdout",
     "output_type": "stream",
     "text": [
      "29\n"
     ]
    }
   ],
   "source": [
    "n1 = int(input(\"Enter the first number\"))\n",
    "n2 = int(input(\"Enter the second number\"))\n",
    "sum = n1 + n2\n",
    "print(sum) #q23"
   ]
  },
  {
   "cell_type": "code",
   "execution_count": 67,
   "id": "ff6f52c4-c45a-49c3-a471-89d473808bf7",
   "metadata": {
    "scrolled": true
   },
   "outputs": [
    {
     "name": "stdin",
     "output_type": "stream",
     "text": [
      "Enter a number -7\n"
     ]
    },
    {
     "name": "stdout",
     "output_type": "stream",
     "text": [
      "Negative\n"
     ]
    }
   ],
   "source": [
    "#q24 \n",
    "n = int(input(\"Enter a number\"))\n",
    "if(n>=0):\n",
    "        print(\"Positive\")\n",
    "elif(n<0):\n",
    "        print(\"Negative\")\n",
    "else:\n",
    "        print(\"Invalid number\")\n",
    "\n",
    "\n",
    "        "
   ]
  },
  {
   "cell_type": "code",
   "execution_count": 68,
   "id": "54b59e43-d5a0-4d59-8bba-3a2f9b9a95cd",
   "metadata": {},
   "outputs": [
    {
     "name": "stdin",
     "output_type": "stream",
     "text": [
      "Enter a number 5\n"
     ]
    },
    {
     "name": "stdout",
     "output_type": "stream",
     "text": [
      "Odd\n"
     ]
    }
   ],
   "source": [
    "n = int(input(\"Enter a number\"))\n",
    "if(n%2==0):\n",
    "    print(\"Even\")\n",
    "else:\n",
    "    print(\"Odd\") #25"
   ]
  },
  {
   "cell_type": "code",
   "execution_count": 99,
   "id": "cab3ca27-fb07-4729-abb3-cdf7ece5affc",
   "metadata": {},
   "outputs": [
    {
     "name": "stdin",
     "output_type": "stream",
     "text": [
      "Enter your age 1\n"
     ]
    },
    {
     "name": "stdout",
     "output_type": "stream",
     "text": [
      "You are a minor\n"
     ]
    }
   ],
   "source": [
    "age = int(input(\"Enter your age\"))\n",
    "if(age>=18):\n",
    "    print(\"You are AN aDULT\")\n",
    "else:\n",
    "    print(\"You are a minor\") #26\n",
    "\n"
   ]
  },
  {
   "cell_type": "code",
   "execution_count": null,
   "id": "eaa9581f-73cc-400e-9b1b-63172a699be5",
   "metadata": {},
   "outputs": [],
   "source": [
    "a = int(input(\"Enter first number\")\n",
    "b = int(input(\"Enter second number\")\n",
    "if(a>b):\n",
    "        print(\"Ais greater\")\n",
    "else :\n",
    "        print(\"B is greater\") #q27"
   ]
  },
  {
   "cell_type": "code",
   "execution_count": null,
   "id": "ff2bc39e-6233-4bd1-934f-1c77599328ee",
   "metadata": {},
   "outputs": [],
   "source": [
    "marks = int(input(\"Enter your marks\"))\n",
    "if(marks>=90):\n",
    "              print(\"A\")\n",
    "else:\n",
    "             print(\"Not A\") #q28"
   ]
  },
  {
   "cell_type": "code",
   "execution_count": 104,
   "id": "9d27d7d7-b970-46a0-94f3-db00257b7a49",
   "metadata": {},
   "outputs": [
    {
     "name": "stdin",
     "output_type": "stream",
     "text": [
      "Enter your password Admin123\n"
     ]
    },
    {
     "name": "stdout",
     "output_type": "stream",
     "text": [
      "Acess denied\n"
     ]
    }
   ],
   "source": [
    "password=input(\"Enter your password\")\n",
    "if(password == 'admin123'):\n",
    "                          print(\"Acess granted\")\n",
    "else :\n",
    "                          print(\"Acess denied\") #q29\n",
    "    "
   ]
  },
  {
   "cell_type": "code",
   "execution_count": null,
   "id": "d311a9d8-0095-45cf-8d3a-efd31268137b",
   "metadata": {},
   "outputs": [],
   "source": [
    "if(n%3 == 0 and n%5==0):\n",
    "                        print(\"Number is divisble by both 3 and 5\") #q30\n",
    "else:\n",
    "                       print(\"Not divisible by 3 and 5\")"
   ]
  },
  {
   "cell_type": "markdown",
   "id": "0be400fc-d35b-4ce2-960e-f3624ddefcdf",
   "metadata": {},
   "source": [
    "#fizzbuzz program\n",
    "# if number is divisible by 3 print Fizz\n",
    "# if number is divisible by 5 print buzz\n",
    "# if number is divisible by both 3 and 5 print Fizzbuzz"
   ]
  },
  {
   "cell_type": "code",
   "execution_count": 108,
   "id": "d9666f78-d852-46d2-ac1e-31f5326c0c0d",
   "metadata": {},
   "outputs": [
    {
     "name": "stdin",
     "output_type": "stream",
     "text": [
      "Enter a number 45\n"
     ]
    },
    {
     "name": "stdout",
     "output_type": "stream",
     "text": [
      "fIZZ\n",
      "Buzz\n"
     ]
    }
   ],
   "source": [
    "n = int(input(\"Enter a number\"))\n",
    "if(n%3==0):\n",
    "    print(\"fIZZ\")\n",
    "if(n%5==0):\n",
    "    print(\"Buzz\")\n",
    "elif(n%3 and n%5==0):\n",
    "    print(\"Fizzbuzz\")\n",
    "else:\n",
    "    print(\"Invalid\")\n",
    "\n",
    "    \n",
    "\n",
    "    \n"
   ]
  },
  {
   "cell_type": "code",
   "execution_count": null,
   "id": "2f2d5835-8ec7-453f-8994-7ce235895b82",
   "metadata": {},
   "outputs": [],
   "source": []
  }
 ],
 "metadata": {
  "kernelspec": {
   "display_name": "Python [conda env:base] *",
   "language": "python",
   "name": "conda-base-py"
  },
  "language_info": {
   "codemirror_mode": {
    "name": "ipython",
    "version": 3
   },
   "file_extension": ".py",
   "mimetype": "text/x-python",
   "name": "python",
   "nbconvert_exporter": "python",
   "pygments_lexer": "ipython3",
   "version": "3.12.7"
  }
 },
 "nbformat": 4,
 "nbformat_minor": 5
}
