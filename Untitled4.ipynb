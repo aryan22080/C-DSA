{
  "metadata": {
    "kernelspec": {
      "name": "python",
      "display_name": "Python (Pyodide)",
      "language": "python"
    },
    "language_info": {
      "codemirror_mode": {
        "name": "python",
        "version": 3
      },
      "file_extension": ".py",
      "mimetype": "text/x-python",
      "name": "python",
      "nbconvert_exporter": "python",
      "pygments_lexer": "ipython3",
      "version": "3.8"
    }
  },
  "nbformat_minor": 5,
  "nbformat": 4,
  "cells": [
    {
      "id": "a9a7a600-6719-4753-a71f-5e50e6604d64",
      "cell_type": "code",
      "source": "#q1\na = 10\nprint(type(a))\nb = 3.14\nprint(type(b))\nc = \"Aryan\"\nprint(type(c))\nd = True\nprint(type(d))",
      "metadata": {
        "trusted": true
      },
      "outputs": [
        {
          "name": "stdout",
          "output_type": "stream",
          "text": "<class 'int'>\n<class 'float'>\n<class 'str'>\n<class 'bool'>\n"
        }
      ],
      "execution_count": 32
    },
    {
      "id": "af751609-8b55-401a-bc43-623b62de1a19",
      "cell_type": "code",
      "source": "#q2\nn1 = 10\nn2 = 20\nn3 = n1 + n2\nprint(n3)",
      "metadata": {
        "trusted": true
      },
      "outputs": [
        {
          "name": "stdout",
          "output_type": "stream",
          "text": "30\n"
        }
      ],
      "execution_count": 2
    },
    {
      "id": "0fadeba7-5324-4fb8-82cd-91d45ab75b18",
      "cell_type": "code",
      "source": "#q3\nn = float(10)\nr = n**2\nprint(r)\n",
      "metadata": {
        "trusted": true
      },
      "outputs": [
        {
          "name": "stdout",
          "output_type": "stream",
          "text": "100.0\n"
        }
      ],
      "execution_count": 1
    },
    {
      "id": "2341ef2c-e212-4766-9552-73784c275b77",
      "cell_type": "code",
      "source": "#q4\nbool = True\nprint(not(bool))",
      "metadata": {
        "trusted": true
      },
      "outputs": [
        {
          "name": "stdout",
          "output_type": "stream",
          "text": "False\n"
        }
      ],
      "execution_count": 35
    },
    {
      "id": "d0f6e455-ff85-4c37-9645-c79029594945",
      "cell_type": "code",
      "source": "#q5\ns = 'Aryan'\nlength = len(s)\nprint(length)",
      "metadata": {
        "trusted": true
      },
      "outputs": [
        {
          "name": "stdout",
          "output_type": "stream",
          "text": "5\n"
        }
      ],
      "execution_count": 68
    },
    {
      "id": "faf0722f-0f46-41e4-82ba-c6a72fad1a75",
      "cell_type": "code",
      "source": "#q6\na = int('10')\nb = a*10\n",
      "metadata": {
        "trusted": true
      },
      "outputs": [],
      "execution_count": 37
    },
    {
      "id": "94ed088b-a631-4c8a-821d-65ee85b99428",
      "cell_type": "code",
      "source": "#q7\nc = int('10')\n",
      "metadata": {
        "trusted": true
      },
      "outputs": [],
      "execution_count": 38
    },
    {
      "id": "d4bde281-a375-4ca7-a042-0304fcafb9af",
      "cell_type": "code",
      "source": "#q8\nn1 = 10.5\nn2 = 12.5\navg = (n1+n2)/2\nprint(avg)",
      "metadata": {
        "trusted": true
      },
      "outputs": [
        {
          "name": "stdout",
          "output_type": "stream",
          "text": "11.5\n"
        }
      ],
      "execution_count": 39
    },
    {
      "id": "53a990f3-3b0d-4f61-a1b8-325a42b0c18c",
      "cell_type": "code",
      "source": "#q9\nname = 'Aryan'\nage = 26\nprint(name,age)\n\n",
      "metadata": {
        "trusted": true
      },
      "outputs": [
        {
          "name": "stdout",
          "output_type": "stream",
          "text": "Aryan 26\n"
        }
      ],
      "execution_count": 6
    },
    {
      "id": "b8344338-ec99-4f4f-bbda-bd938a125bff",
      "cell_type": "code",
      "source": "#q10\na = str(10)\nprint(type(a))",
      "metadata": {
        "trusted": true
      },
      "outputs": [
        {
          "name": "stdout",
          "output_type": "stream",
          "text": "<class 'str'>\n"
        }
      ],
      "execution_count": 41
    },
    {
      "id": "98f7d9b5-5a65-43fa-9f2c-f93a8744c71d",
      "cell_type": "code",
      "source": "a = 10\nb = 20\nc = a +b\nd = a-b\ne = a*b\nf = a/b\ng = a//b\nh = a**b\ni = a%b\nprint(c,d,e,f,g,h,i) #q11\n",
      "metadata": {
        "trusted": true
      },
      "outputs": [
        {
          "name": "stdout",
          "output_type": "stream",
          "text": "30 -10 200 0.5 0 100000000000000000000 10\n"
        }
      ],
      "execution_count": 42
    },
    {
      "id": "4a421529-c521-4a68-9a8e-8eba371c7fcc",
      "cell_type": "code",
      "source": "a = 12\nb = 13\nif(a<b):\n    print(a)\nelse: \n    print(b) # q12\n    ",
      "metadata": {
        "trusted": true
      },
      "outputs": [
        {
          "name": "stdout",
          "output_type": "stream",
          "text": "12\n"
        }
      ],
      "execution_count": 43
    },
    {
      "id": "7ac87511-2a40-4d0a-9fe9-8d501e419fd9",
      "cell_type": "code",
      "source": "a = (10,12,13,14,15,16,17,18,19,20)\nn = 12\nif 12 in a:\n    print(\"Yes\")\nelse:\n    print(\"No\") #q14",
      "metadata": {
        "trusted": true
      },
      "outputs": [
        {
          "name": "stdout",
          "output_type": "stream",
          "text": "Yes\n"
        }
      ],
      "execution_count": 44
    },
    {
      "id": "2cfcda8f-d995-4f63-abf6-412f66d0db2b",
      "cell_type": "code",
      "source": "#q16\nbase = 6\nheight = 7\narea = 0.5*base*height\nprint(area) #q15",
      "metadata": {
        "trusted": true
      },
      "outputs": [
        {
          "name": "stdout",
          "output_type": "stream",
          "text": "21.0\n"
        }
      ],
      "execution_count": 3
    },
    {
      "id": "8afc39f0-7e2d-4852-9ae2-ad764a1094b5",
      "cell_type": "code",
      "source": "#q17\na = 10\nb = 20\na+=10\nprint(a)\nb-=10\nprint(b)",
      "metadata": {
        "trusted": true
      },
      "outputs": [
        {
          "name": "stdout",
          "output_type": "stream",
          "text": "20\n10\n"
        }
      ],
      "execution_count": 46
    },
    {
      "id": "0469df72-b3c9-4f2b-8301-7291db019f7a",
      "cell_type": "code",
      "source": "#q18\nprinci = 5000\nrate = 12\ntime = 3\nsimple_interest = (princi*rate*time)/(100)\nprint(simple_interest)",
      "metadata": {
        "trusted": true
      },
      "outputs": [
        {
          "name": "stdout",
          "output_type": "stream",
          "text": "1800.0\n"
        }
      ],
      "execution_count": 47
    },
    {
      "id": "4199cc4a-0f25-4c79-b197-bad32dbb5a62",
      "cell_type": "code",
      "source": "#q19\nn = 15\nif(n%3==0 and n%5==0):\n    print(\"Divisible\")\nelse:\n    print(\"Not divisible\")",
      "metadata": {
        "trusted": true
      },
      "outputs": [
        {
          "name": "stdout",
          "output_type": "stream",
          "text": "Divisible\n"
        }
      ],
      "execution_count": 5
    },
    {
      "id": "d87c913e-c0b7-478a-abf1-652e3cbf4899",
      "cell_type": "code",
      "source": "n = 10\ni = 1\nwhile(i<n):\n    print(i)\n    i = i+1 #q21\n    ",
      "metadata": {
        "trusted": true
      },
      "outputs": [
        {
          "name": "stdout",
          "output_type": "stream",
          "text": "1\n2\n3\n4\n5\n6\n7\n8\n9\n"
        }
      ],
      "execution_count": 49
    },
    {
      "id": "0c506ad8-c097-4483-97e3-f41e903cb925",
      "cell_type": "code",
      "source": "for i in range(1,21):\n    if (i%2==0):\n        print(i) #q22\n    ",
      "metadata": {
        "trusted": true
      },
      "outputs": [
        {
          "name": "stdout",
          "output_type": "stream",
          "text": "2\n4\n6\n8\n10\n12\n14\n16\n18\n20\n"
        }
      ],
      "execution_count": 50
    },
    {
      "id": "96b084fb-5338-4294-a90b-16b54039dffd",
      "cell_type": "code",
      "source": "#q23\nsum = 0\nfor i in range(1,11):\n    sum = sum + i\nprint(sum)",
      "metadata": {
        "trusted": true
      },
      "outputs": [
        {
          "name": "stdout",
          "output_type": "stream",
          "text": "55\n"
        }
      ],
      "execution_count": 51
    },
    {
      "id": "8621104d-32ab-4a5d-8981-e39fad2cc780",
      "cell_type": "code",
      "source": "n = 10\ni = 1\nwhile(i<=n):\n    print(n,'*',i,'=',n*i)\n    i = i+1 #q24",
      "metadata": {
        "trusted": true
      },
      "outputs": [
        {
          "name": "stdout",
          "output_type": "stream",
          "text": "10 * 1 = 10\n10 * 2 = 20\n10 * 3 = 30\n10 * 4 = 40\n10 * 5 = 50\n10 * 6 = 60\n10 * 7 = 70\n10 * 8 = 80\n10 * 9 = 90\n10 * 10 = 100\n"
        }
      ],
      "execution_count": 52
    },
    {
      "id": "dbc09a58-8d20-4945-acc8-ea1e154d22ca",
      "cell_type": "code",
      "source": "sum =0\nfor i in range(1,51):\n    if(i%2!=0):\n        sum = sum + i\nprint(sum) # 26\n    \n",
      "metadata": {
        "trusted": true
      },
      "outputs": [
        {
          "name": "stdout",
          "output_type": "stream",
          "text": "625\n"
        }
      ],
      "execution_count": 53
    },
    {
      "id": "41e033bd-08d1-44a4-9868-2a6d8da73f95",
      "cell_type": "code",
      "source": "#q27\nn = 123\nrev = 0\nwhile(n>0):\n    r = n%10\n    rev = rev*10 + r\n    n = n//10\n    print(rev) #27\n    ",
      "metadata": {
        "trusted": true
      },
      "outputs": [
        {
          "name": "stdout",
          "output_type": "stream",
          "text": "3\n32\n321\n"
        }
      ],
      "execution_count": 54
    },
    {
      "id": "8a86049b-4532-4653-930e-1420c374ae6c",
      "cell_type": "code",
      "source": "n = 123\ncount = 0\ni = 0\nwhile(i<n):\n    i = i + 1\n    r = n//10\n    n = n%10\n    print(i) #28\n    \n    \n    \n",
      "metadata": {
        "trusted": true
      },
      "outputs": [
        {
          "name": "stdout",
          "output_type": "stream",
          "text": "1\n2\n3\n"
        }
      ],
      "execution_count": 55
    },
    {
      "id": "6e0376f3-3a38-4077-a427-6e288a12f5c0",
      "cell_type": "code",
      "source": "#29\nfor i in range(1,101):\n    if(i%7==0):\n        print(i)",
      "metadata": {
        "trusted": true
      },
      "outputs": [
        {
          "name": "stdout",
          "output_type": "stream",
          "text": "7\n14\n21\n28\n35\n42\n49\n56\n63\n70\n77\n84\n91\n98\n"
        }
      ],
      "execution_count": 56
    },
    {
      "id": "dd901faf-4475-47a7-8467-31347d2cca30",
      "cell_type": "code",
      "source": "#q30\nfor i in range(1,11):\n    print(i**2)\n",
      "metadata": {
        "trusted": true
      },
      "outputs": [
        {
          "name": "stdout",
          "output_type": "stream",
          "text": "1\n4\n9\n16\n25\n36\n49\n64\n81\n100\n"
        }
      ],
      "execution_count": 57
    },
    {
      "id": "e34305ca-7111-450f-b91e-e8c67ccdfe3c",
      "cell_type": "code",
      "source": "for i in range(1,6):\n    for j in range(1,6):\n        if i>=j:\n            print('*',end=\"\")\n    print('')  #q31",
      "metadata": {
        "trusted": true
      },
      "outputs": [
        {
          "name": "stdout",
          "output_type": "stream",
          "text": "*\n**\n***\n****\n*****\n"
        }
      ],
      "execution_count": 58
    },
    {
      "id": "684998de-6dd2-41d6-a117-d1306b3074c2",
      "cell_type": "code",
      "source": "#q32\nfor i in range(1,6):\n    for j in range(1,6):\n        print('*',end=\"\")\n    print('')\n",
      "metadata": {
        "trusted": true
      },
      "outputs": [
        {
          "name": "stdout",
          "output_type": "stream",
          "text": "*****\n*****\n*****\n*****\n*****\n"
        }
      ],
      "execution_count": 59
    },
    {
      "id": "d4f34937-6b99-46fa-880a-78c616e410b4",
      "cell_type": "code",
      "source": "for i in range(1,4):\n    for j in range(1,4): #q33\n        if i>=j:\n            print(j,end=\"\")\n    print('')",
      "metadata": {
        "trusted": true
      },
      "outputs": [
        {
          "name": "stdout",
          "output_type": "stream",
          "text": "1\n12\n123\n"
        }
      ],
      "execution_count": 60
    },
    {
      "id": "c587fb58-0e35-4095-844e-c561106f3b9c",
      "cell_type": "code",
      "source": "#q34\nfor i in range(1,6):\n    for j in range(1,6-(i-1)):\n        print('*',end=\"\")\n    print('')",
      "metadata": {
        "trusted": true
      },
      "outputs": [
        {
          "name": "stdout",
          "output_type": "stream",
          "text": "*****\n****\n***\n**\n*\n"
        }
      ],
      "execution_count": 61
    },
    {
      "id": "9f636704-fc29-4c7a-897f-3f8b7d053f1c",
      "cell_type": "code",
      "source": "#q41\nday_no = int(input(\"Enter day number\"))\n",
      "metadata": {
        "trusted": true
      },
      "outputs": [
        {
          "ename": "<class 'SyntaxError'>",
          "evalue": "invalid syntax (<ipython-input-7-a0148bc5ae63>, line 18)",
          "traceback": [
            "\u001b[0;36m  Cell \u001b[0;32mIn[7], line 18\u001b[0;36m\u001b[0m\n\u001b[0;31m    case_:\u001b[0m\n\u001b[0m    ^\u001b[0m\n\u001b[0;31mSyntaxError\u001b[0m\u001b[0;31m:\u001b[0m invalid syntax\n"
          ],
          "output_type": "error"
        }
      ],
      "execution_count": 7
    },
    {
      "id": "5470a794-87b7-4c68-8f9f-10fe894d68de",
      "cell_type": "code",
      "source": "",
      "metadata": {
        "trusted": true
      },
      "outputs": [],
      "execution_count": null
    }
  ]
}